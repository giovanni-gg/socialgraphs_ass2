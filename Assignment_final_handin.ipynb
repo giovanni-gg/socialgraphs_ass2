{
  "cells": [
    {
      "cell_type": "markdown",
      "metadata": {
        "id": "wOkEeaRZYMV7"
      },
      "source": [
        "# Formalia:\n",
        "\n",
        "Please read the [assignment overview page](https://github.com/SocialComplexityLab/socialgraphs2022/wiki/Assignments) carefully before proceeding. This page contains information about formatting (including formats etc), group sizes, and many other aspects of handing in the assignment. \n",
        "\n",
        "_If you fail to follow these simple instructions, it will negatively impact your grade!_\n",
        "\n",
        "**Due date and time**: The assignment is due on Tuesday November 1st, 2022 at 23:55. Hand in your IPython notebook file (with extension `.ipynb`) via http://peergrade.io/ (we won't be doing peergrading, but we'll still use http://peergrade.io/ for the handin.)"
      ]
    },
    {
      "cell_type": "code",
      "execution_count": null,
      "metadata": {
        "colab": {
          "base_uri": "https://localhost:8080/"
        },
        "id": "3SCB85iBZ0MR",
        "outputId": "d821543a-575e-4602-a496-41c56e1e9368"
      },
      "outputs": [
        {
          "name": "stdout",
          "output_type": "stream",
          "text": [
            "Looking in indexes: https://pypi.org/simple, https://us-python.pkg.dev/colab-wheels/public/simple/\n",
            "Requirement already satisfied: wikipedia in /usr/local/lib/python3.7/dist-packages (1.4.0)\n",
            "Requirement already satisfied: beautifulsoup4 in /usr/local/lib/python3.7/dist-packages (from wikipedia) (4.6.3)\n",
            "Requirement already satisfied: requests<3.0.0,>=2.0.0 in /usr/local/lib/python3.7/dist-packages (from wikipedia) (2.23.0)\n",
            "Requirement already satisfied: urllib3!=1.25.0,!=1.25.1,<1.26,>=1.21.1 in /usr/local/lib/python3.7/dist-packages (from requests<3.0.0,>=2.0.0->wikipedia) (1.24.3)\n",
            "Requirement already satisfied: chardet<4,>=3.0.2 in /usr/local/lib/python3.7/dist-packages (from requests<3.0.0,>=2.0.0->wikipedia) (3.0.4)\n",
            "Requirement already satisfied: idna<3,>=2.5 in /usr/local/lib/python3.7/dist-packages (from requests<3.0.0,>=2.0.0->wikipedia) (2.10)\n",
            "Requirement already satisfied: certifi>=2017.4.17 in /usr/local/lib/python3.7/dist-packages (from requests<3.0.0,>=2.0.0->wikipedia) (2022.9.24)\n",
            "Looking in indexes: https://pypi.org/simple, https://us-python.pkg.dev/colab-wheels/public/simple/\n",
            "Requirement already satisfied: powerlaw in /usr/local/lib/python3.7/dist-packages (1.5)\n",
            "Requirement already satisfied: mpmath in /usr/local/lib/python3.7/dist-packages (from powerlaw) (1.2.1)\n",
            "Requirement already satisfied: numpy in /usr/local/lib/python3.7/dist-packages (from powerlaw) (1.21.6)\n",
            "Requirement already satisfied: matplotlib in /usr/local/lib/python3.7/dist-packages (from powerlaw) (3.2.2)\n",
            "Requirement already satisfied: scipy in /usr/local/lib/python3.7/dist-packages (from powerlaw) (1.7.3)\n",
            "Requirement already satisfied: python-dateutil>=2.1 in /usr/local/lib/python3.7/dist-packages (from matplotlib->powerlaw) (2.8.2)\n",
            "Requirement already satisfied: cycler>=0.10 in /usr/local/lib/python3.7/dist-packages (from matplotlib->powerlaw) (0.11.0)\n",
            "Requirement already satisfied: pyparsing!=2.0.4,!=2.1.2,!=2.1.6,>=2.0.1 in /usr/local/lib/python3.7/dist-packages (from matplotlib->powerlaw) (3.0.9)\n",
            "Requirement already satisfied: kiwisolver>=1.0.1 in /usr/local/lib/python3.7/dist-packages (from matplotlib->powerlaw) (1.4.4)\n",
            "Requirement already satisfied: typing-extensions in /usr/local/lib/python3.7/dist-packages (from kiwisolver>=1.0.1->matplotlib->powerlaw) (4.1.1)\n",
            "Requirement already satisfied: six>=1.5 in /usr/local/lib/python3.7/dist-packages (from python-dateutil>=2.1->matplotlib->powerlaw) (1.15.0)\n"
          ]
        }
      ],
      "source": [
        "!pip install wikipedia\n",
        "!pip install powerlaw"
      ]
    },
    {
      "cell_type": "code",
      "execution_count": null,
      "metadata": {
        "id": "KgAzSLaQYMWE"
      },
      "outputs": [],
      "source": [
        "from ast import literal_eval\n",
        "import pandas as pd \n",
        "import numpy as np\n",
        "import nltk\n",
        "import re\n",
        "from nltk import word_tokenize\n",
        "import wikipedia\n",
        "from nltk.tokenize import word_tokenize\n",
        "import matplotlib.pyplot as plt\n",
        "from nltk.corpus import stopwords\n",
        "import networkx as nx\n",
        "import collections\n",
        "import powerlaw\n",
        "import random\n",
        "from fa2 import ForceAtlas2\n"
      ]
    },
    {
      "cell_type": "markdown",
      "metadata": {
        "id": "DKnHlhRjYMWH"
      },
      "source": [
        "# Data\n",
        "\n",
        "This assignment will be based on the DC and Marvel superhero dataset you downloaded during the Week 4 exercises. It's important that you work with your own dataset.\n",
        "\n",
        "You will need the network structure and the page texts to complete the assignment.\n",
        "\n",
        "To show that you have collected these files, please place your files somewhere that's accessible online (e.g. a github repo or a webpage) and link to your files from your notebook. (We will appreciate it if you store the wiki pages in plain text and the network as an edgelist. )"
      ]
    },
    {
      "cell_type": "code",
      "execution_count": null,
      "metadata": {
        "id": "z6qUYL55YMWI"
      },
      "outputs": [],
      "source": [
        "# reading data and creating dataframes for each universe\n",
        "dc_big_df = pd.read_csv('dc_cleaned.csv', index_col=0)\n",
        "marvel_big_df = pd.read_csv('marvel_cleaned.csv', index_col=0)\n",
        "dc_big_df['links'] = dc_big_df['links'].apply(lambda x: literal_eval(x))\n",
        "marvel_big_df['links'] = marvel_big_df['links'].apply(lambda x: literal_eval(x))"
      ]
    },
    {
      "cell_type": "code",
      "execution_count": null,
      "metadata": {
        "colab": {
          "base_uri": "https://localhost:8080/"
        },
        "id": "cW62wAXu2pcj",
        "outputId": "6bcb5472-84e3-415e-faf1-861093668146"
      },
      "outputs": [
        {
          "name": "stderr",
          "output_type": "stream",
          "text": [
            "C:\\Users\\felip\\AppData\\Local\\Temp\\ipykernel_3764\\432678594.py:32: SettingWithCopyWarning: \n",
            "A value is trying to be set on a copy of a slice from a DataFrame.\n",
            "Try using .loc[row_indexer,col_indexer] = value instead\n",
            "\n",
            "See the caveats in the documentation: https://pandas.pydata.org/pandas-docs/stable/user_guide/indexing.html#returning-a-view-versus-a-copy\n",
            "  dc_links_df['n_edges'] = dc_links_df['heroes_links'].apply(lambda x: len(x))\n",
            "C:\\Users\\felip\\AppData\\Local\\Temp\\ipykernel_3764\\432678594.py:33: SettingWithCopyWarning: \n",
            "A value is trying to be set on a copy of a slice from a DataFrame.\n",
            "Try using .loc[row_indexer,col_indexer] = value instead\n",
            "\n",
            "See the caveats in the documentation: https://pandas.pydata.org/pandas-docs/stable/user_guide/indexing.html#returning-a-view-versus-a-copy\n",
            "  marvel_links_df['n_edges'] = marvel_links_df['heroes_links'].apply(lambda x: len(x))\n"
          ]
        }
      ],
      "source": [
        "# counting words for each text\n",
        "marvel_big_df['n_words_desc'] = marvel_big_df.text.apply(lambda text:len([word for word in re.sub('\\W+',' ', text).split(' ') if len(word) > 1]) )\n",
        "dc_big_df['n_words_desc'] = dc_big_df.text.apply(lambda text:len([word for word in re.sub('\\W+',' ', text).split(' ') if len(word) > 1]) )\n",
        "\n",
        "#GEtting edges by exploding list of links in each dataframe\n",
        "all_heroes = np.concatenate((dc_big_df.hero.values,marvel_big_df.hero.values))\n",
        "dc_big_df['heroes_links'] = dc_big_df['links'].apply(lambda x: list(set(x).intersection(all_heroes)))\n",
        "dc_big_df['universe'] = 'dc'\n",
        "marvel_big_df['heroes_links'] = marvel_big_df['links'].apply(lambda x: list(set(x).intersection(all_heroes)))\n",
        "marvel_big_df['universe'] = 'marvel'\n",
        "dc_links_df= dc_big_df[['hero','heroes_links','universe']]\n",
        "dc_explode=dc_links_df.explode('heroes_links').reset_index(drop=True)\n",
        "marvel_links_df= marvel_big_df[['hero','heroes_links','universe']]\n",
        "marvel_explode=marvel_links_df.explode('heroes_links').reset_index(drop=True)\n",
        "\n",
        "dc_edges = list(dc_explode[['hero','heroes_links']].itertuples(index=False, name=None))\n",
        "marvel_edges = list(marvel_explode[['hero','heroes_links']].itertuples(index=False, name=None))\n",
        "\n",
        "#creating graph\n",
        "G = nx.DiGraph()\n",
        "dc_words = dc_big_df['n_words_desc'].values\n",
        "for i, hero in enumerate(dc_big_df['hero'].values):\n",
        "    G.add_node(hero, universe='dc', n_words_desc=dc_words[i])\n",
        "    \n",
        "marvel_words = marvel_big_df['n_words_desc'].values\n",
        "for i, hero in enumerate(marvel_big_df['hero'].values):\n",
        "    G.add_node(hero, universe='marvel', n_words_desc=marvel_words[i])\n",
        "    \n",
        "G.add_edges_from(dc_edges)\n",
        "G.add_edges_from(marvel_edges)\n",
        "\n",
        "dc_links_df['n_edges'] = dc_links_df['heroes_links'].apply(lambda x: len(x))\n",
        "marvel_links_df['n_edges'] = marvel_links_df['heroes_links'].apply(lambda x: len(x))\n",
        "\n",
        "marvel_no_links = marvel_links_df[marvel_links_df['n_edges']==0]['hero'].values\n",
        "dc_no_links = dc_links_df[dc_links_df['n_edges']==0]['hero'].values\n",
        "\n",
        "#removing nodes with no edges\n",
        "G.remove_nodes_from(marvel_no_links)\n",
        "G.remove_nodes_from(dc_no_links)"
      ]
    },
    {
      "cell_type": "code",
      "execution_count": null,
      "metadata": {
        "id": "WBWGo9pkYMWN"
      },
      "outputs": [],
      "source": [
        "nx.write_gpickle(G,'marvel_dc_graph.pkl')"
      ]
    },
    {
      "cell_type": "code",
      "execution_count": null,
      "metadata": {
        "id": "EiWbMXFkYMWO"
      },
      "outputs": [],
      "source": [
        "marvel_nodes = list(\n",
        "    node\n",
        "    for node, data\n",
        "    in G.nodes(data=True)\n",
        "    if data.get(\"universe\") == \"marvel\"\n",
        ")\n",
        "\n",
        "dc_nodes = list(\n",
        "    node\n",
        "    for node, data\n",
        "    in G.nodes(data=True)\n",
        "    if data.get(\"universe\") == \"dc\"\n",
        ")\n",
        "partition_dict = {}\n",
        "for i in marvel_nodes:\n",
        "    partition_dict[i]='dc'\n",
        "for i in dc_nodes:\n",
        "    partition_dict[i]='marvel' "
      ]
    },
    {
      "cell_type": "code",
      "execution_count": null,
      "metadata": {
        "id": "ajwRGryI25Ld"
      },
      "outputs": [],
      "source": [
        "Non_dir_G = nx.Graph(G)"
      ]
    },
    {
      "cell_type": "code",
      "execution_count": null,
      "metadata": {
        "id": "Jm3jvktc1D8-"
      },
      "outputs": [],
      "source": [
        "marvel_G = Non_dir_G.subgraph(marvel_nodes)\n",
        "dc_G = Non_dir_G.subgraph(dc_nodes)"
      ]
    },
    {
      "cell_type": "code",
      "execution_count": null,
      "metadata": {
        "id": "U17V-ZgZ1FtS"
      },
      "outputs": [],
      "source": [
        "marvel_L = len(list(marvel_G.edges))\n",
        "dc_L = len(list(dc_G.edges))\n",
        "marvel_k = len(list(marvel_G.nodes))\n",
        "dc_k = len(list(dc_G.nodes))\n",
        "total_L = len(list(Non_dir_G.edges))\n"
      ]
    },
    {
      "cell_type": "code",
      "execution_count": null,
      "metadata": {
        "colab": {
          "base_uri": "https://localhost:8080/"
        },
        "id": "dn9vKt-h1Fw1",
        "outputId": "621758b6-6c55-4ffe-c18a-128b00575175"
      },
      "outputs": [
        {
          "name": "stdout",
          "output_type": "stream",
          "text": [
            "0.9850198128737111\n"
          ]
        }
      ],
      "source": [
        "marvel_part = marvel_L/total_L - (marvel_k/(2*(total_L)))**2\n",
        "dc_part = dc_L/total_L - (dc_k/(2*(total_L)))**2\n",
        "total = marvel_part + dc_part\n",
        "print(total)"
      ]
    },
    {
      "cell_type": "markdown",
      "metadata": {
        "id": "aZ1Hdx3eYMWP"
      },
      "source": [
        "# Basic Stats\n",
        "\n",
        "Write a short paragraph describing the network. The paragraph should contain the following information\n",
        "\n",
        "* The number of nodes and links. \n",
        "* The average, median, mode, minimum and maximum value of the network's in-degree.s And of the out-degrees.\n",
        "\n",
        "We also want the degree distributions and a plot of the network\n",
        "\n",
        "* Create and visualize in- and out-going degree distributions as described in Lecture 4. Think about which axes you should use - loglog is great for power-law distributions, but not necessarily for Poisson-like degree distributions.\n",
        "* Estimate, report, and reflect on the slope and starting value of the incoming degree distribtion's power law using the tools described in Lecture 5 - and display the fit on top of your incoming degree-distribution plot.\n",
        "* Plot the network using the Force Atlas algorithm as described in Lecture 5.\n",
        "\n",
        "(Friendly hint: Remember figure captions.)"
      ]
    },
    {
      "cell_type": "code",
      "execution_count": null,
      "metadata": {
        "colab": {
          "base_uri": "https://localhost:8080/"
        },
        "id": "VScjRTDVYMWQ",
        "outputId": "647e3721-7abf-4b5b-e156-fdbe14fd2f81"
      },
      "outputs": [
        {
          "name": "stdout",
          "output_type": "stream",
          "text": [
            "n nodes:  1482\n",
            "n edges:  18212\n"
          ]
        }
      ],
      "source": [
        "import statistics as st\n",
        "in_degrees = [x[1] for x in list(G.in_degree())]\n",
        "n_nodes = len(G.nodes())\n",
        "n_edges = len(G.edges())\n",
        "print('n nodes: ', len(G.nodes()))\n",
        "print('n edges: ', len(G.edges()))\n",
        "\n",
        "in_mean = round(np.mean(in_degrees),2)\n",
        "in_mode = st.mode(in_degrees)\n",
        "in_median = np.percentile(in_degrees, 50)\n",
        "in_max = np.max(in_degrees)\n",
        "in_min = np.min(in_degrees)\n",
        "\n",
        "\n",
        "\n",
        "out_degrees = [x[1] for x in list(G.out_degree())]\n",
        "out_mean = round(np.mean(out_degrees),2)\n",
        "out_mode = st.mode(out_degrees)\n",
        "out_median = np.percentile(out_degrees, 50)\n",
        "out_max = np.max(out_degrees)\n",
        "out_min = np.min(out_degrees)\n"
      ]
    },
    {
      "cell_type": "markdown",
      "metadata": {
        "id": "altzs4UDWlbP"
      },
      "source": [
        "> * The network has a total of 1482 nodes and 18212 edges. The everage degree is the same for in and out, as expected and the other statistics are displayed in the dataframe in the cell bellow:"
      ]
    },
    {
      "cell_type": "code",
      "execution_count": null,
      "metadata": {
        "colab": {
          "base_uri": "https://localhost:8080/",
          "height": 112
        },
        "id": "-KI9Dqa1WmYq",
        "outputId": "2acc840f-5f8e-4f33-f605-6db962452607"
      },
      "outputs": [
        {
          "data": {
            "text/html": [
              "<div>\n",
              "<style scoped>\n",
              "    .dataframe tbody tr th:only-of-type {\n",
              "        vertical-align: middle;\n",
              "    }\n",
              "\n",
              "    .dataframe tbody tr th {\n",
              "        vertical-align: top;\n",
              "    }\n",
              "\n",
              "    .dataframe thead th {\n",
              "        text-align: right;\n",
              "    }\n",
              "</style>\n",
              "<table border=\"1\" class=\"dataframe\">\n",
              "  <thead>\n",
              "    <tr style=\"text-align: right;\">\n",
              "      <th>statistic</th>\n",
              "      <th>mean</th>\n",
              "      <th>mode</th>\n",
              "      <th>median</th>\n",
              "      <th>max</th>\n",
              "      <th>min</th>\n",
              "    </tr>\n",
              "  </thead>\n",
              "  <tbody>\n",
              "    <tr>\n",
              "      <th>in-degree</th>\n",
              "      <td>12.29</td>\n",
              "      <td>0.0</td>\n",
              "      <td>5.0</td>\n",
              "      <td>377.0</td>\n",
              "      <td>0.0</td>\n",
              "    </tr>\n",
              "    <tr>\n",
              "      <th>out-degree</th>\n",
              "      <td>12.29</td>\n",
              "      <td>6.0</td>\n",
              "      <td>9.0</td>\n",
              "      <td>73.0</td>\n",
              "      <td>0.0</td>\n",
              "    </tr>\n",
              "  </tbody>\n",
              "</table>\n",
              "</div>"
            ],
            "text/plain": [
              "statistic    mean  mode  median    max  min\n",
              "in-degree   12.29   0.0     5.0  377.0  0.0\n",
              "out-degree  12.29   6.0     9.0   73.0  0.0"
            ]
          },
          "execution_count": 10,
          "metadata": {},
          "output_type": "execute_result"
        }
      ],
      "source": [
        "\n",
        "statistics = ['mean', 'mode', 'median', 'max', 'min']\n",
        "in_stats = [in_mean, in_mode, in_median, in_max, in_min]\n",
        "out_stats = [out_mean, out_mode, out_median, out_max, out_min]\n",
        "pd.DataFrame({'statistic':statistics, 'in-degree':in_stats, 'out-degree':out_stats}).set_index('statistic').T"
      ]
    },
    {
      "cell_type": "code",
      "execution_count": null,
      "metadata": {
        "colab": {
          "base_uri": "https://localhost:8080/",
          "height": 683
        },
        "id": "Sb90LBXhYMWR",
        "outputId": "0545c7bc-af80-441b-8b66-3877b0040af2"
      },
      "outputs": [
        {
          "data": {
            "image/png": "[encoded data removed]",
            "text/plain": [
              "<Figure size 864x360 with 1 Axes>"
            ]
          },
          "metadata": {
            "needs_background": "light"
          },
          "output_type": "display_data"
        },
        {
          "data": {
            "image/png": "[encoded data removed]",
            "text/plain": [
              "<Figure size 864x360 with 1 Axes>"
            ]
          },
          "metadata": {
            "needs_background": "light"
          },
          "output_type": "display_data"
        }
      ],
      "source": [
        "# Plotting the in-degree distribution\n",
        "in_degree = sorted([d for n, d in G.in_degree()])\n",
        "in_degree_count = collections.Counter(in_degree)\n",
        "in_deg, in_count = zip(*in_degree_count.items())\n",
        "\n",
        "plt.figure(figsize=(12,5))\n",
        "plt.bar(in_deg, in_count, width=1, log=True)\n",
        "plt.title(\"In Degree Distribution (Log)\")\n",
        "plt.ylabel(\"Frequency\")\n",
        "plt.xlabel(\"Degree\")\n",
        "plt.legend(['In-degree'])\n",
        "plt.show()\n",
        "\n",
        "\n",
        "\n",
        "\n",
        "\n",
        "\n",
        "\n",
        "# Plotting the out-degree distribution\n",
        "out_degree = sorted([d for n, d in G.out_degree()])\n",
        "out_degree_count = collections.Counter(out_degree)\n",
        "out_deg, out_count = zip(*out_degree_count.items())\n",
        "\n",
        "plt.figure(figsize=(12,5))\n",
        "plt.bar(out_deg, out_count, width=0.25, log=False)\n",
        "plt.title(\"Out Degree Distribution (Linear)\")\n",
        "plt.ylabel(\"Frequency\")\n",
        "plt.xlabel(\"Degree\")\n",
        "plt.legend(['Out-degree'])\n",
        "plt.show()"
      ]
    },
    {
      "cell_type": "code",
      "execution_count": null,
      "metadata": {
        "colab": {
          "base_uri": "https://localhost:8080/"
        },
        "id": "Wts1HphoYMWS",
        "outputId": "8c585338-e4d5-4e09-e9aa-2c9c4344e715"
      },
      "outputs": [
        {
          "name": "stdout",
          "output_type": "stream",
          "text": [
            "estimated power law exponent for in-degree distribution:  2.5718869550844743\n"
          ]
        },
        {
          "name": "stderr",
          "output_type": "stream",
          "text": [
            "Values less than or equal to 0 in data. Throwing out 0 or negative values\n",
            "Calculating best minimal value for power law fit\n",
            "C:\\Users\\felip\\anaconda3\\lib\\site-packages\\powerlaw.py:699: RuntimeWarning: invalid value encountered in true_divide\n",
            "  (CDF_diff**2) /\n"
          ]
        }
      ],
      "source": [
        "in_power = powerlaw.Fit(in_degree)\n",
        "print('estimated power law exponent for in-degree distribution: ',in_power.power_law.alpha)"
      ]
    },
    {
      "cell_type": "code",
      "execution_count": null,
      "metadata": {
        "colab": {
          "base_uri": "https://localhost:8080/"
        },
        "id": "0q0b8RxMYMWT",
        "outputId": "bf93511d-9540-4f9c-a00c-6fa9eef00fab"
      },
      "outputs": [
        {
          "name": "stdout",
          "output_type": "stream",
          "text": [
            "estimated power law exponent for out-degree distribution:  3.7501067198283913\n"
          ]
        },
        {
          "name": "stderr",
          "output_type": "stream",
          "text": [
            "Values less than or equal to 0 in data. Throwing out 0 or negative values\n",
            "Calculating best minimal value for power law fit\n"
          ]
        }
      ],
      "source": [
        "out_power = powerlaw.Fit(out_degree)\n",
        "print('estimated power law exponent for out-degree distribution: ',out_power.power_law.alpha)"
      ]
    },
    {
      "cell_type": "markdown",
      "metadata": {
        "id": "9f0K_teMV4Ou"
      },
      "source": [
        "$$\n",
        "    \\text{Regime}= \n",
        "\\begin{cases}\n",
        "    \\text{Anomolous},& \\text{if } \\gamma \\leq 2 \\\\\n",
        "    \\text{Scale-free},& \\text{if } 2<\\gamma <3\\\\\n",
        "    \\text{Random Network},& \\text{if } 3 < \\gamma\\\\\n",
        "\\end{cases}\n",
        "$$"
      ]
    },
    {
      "cell_type": "markdown",
      "metadata": {
        "id": "hlcFuXvFV9xg"
      },
      "source": [
        ">* We can see that the out degree distribution with a $\\gamma > 3$ puts the network in the Random network regime. That means the behavior of the scale free network doenst differ from the behavior of a random network. This reflects in the degree distribution plot, where there doesnt seem to be the need to log scale the axis, as it doent seem to be exponentially distributed. The out-degree from a specific hero Wiki page might be interpreted as metric for the complexity of their background story, aka lore. The more heroes mentioned in his/her wiki, the more complex it story. Therefore, it is reasonable to assume that the distribution of complexity scores is not really exponentially distributed (or pareto distributed).  \n",
        "> * The in degree distribution demonstrates more of a exponential distribution. The estimated exponent is in the interval $2 < \\gamma < 3$, which determines a Scale-free regime. This exponential behavior makes sense as the in-degree distribution represents how many other heroes mention the hero at hand. This could be interpreted as a sort of popularity score, or the importance of that one hero in the comic universe. As it is to be expected, a small group of heroes (e.g. Batman, Spide-Man, Super Man) concentrate the most citations. "
      ]
    },
    {
      "cell_type": "code",
      "execution_count": null,
      "metadata": {
        "id": "-OI4SAe9YMWU"
      },
      "outputs": [],
      "source": [
        "# getting number of edges from the network\n",
        "N = len(G.nodes())"
      ]
    },
    {
      "cell_type": "code",
      "execution_count": null,
      "metadata": {
        "id": "aBS0K8ZsYMWU"
      },
      "outputs": [],
      "source": [
        "# simulating in degree power law distributed sequence and configuration model (BA graph) with estimated gamma\n",
        "in_sequence = nx.utils.powerlaw_sequence(N,exponent= in_power.power_law.alpha)\n",
        "in_sequence = [int(x) for x in in_sequence]\n",
        "if sum(in_sequence)%2!=0:\n",
        "    node_idx=random.choice(range(0,len(in_sequence)))\n",
        "    in_sequence[node_idx]+=1\n",
        "simulated_BA_in = nx.configuration_model(in_sequence)"
      ]
    },
    {
      "cell_type": "code",
      "execution_count": null,
      "metadata": {
        "id": "OTrnFTjjYMWV"
      },
      "outputs": [],
      "source": [
        "# getting the distribution\n",
        "BA_in_degree = sorted([d for n, d in simulated_BA_in.degree()])\n",
        "BA_in_degree_count = collections.Counter(BA_in_degree)\n",
        "BA_in_deg, BA_in_count = list(dict(BA_in_degree_count).keys()), list(dict(BA_in_degree_count).values())"
      ]
    },
    {
      "cell_type": "code",
      "execution_count": null,
      "metadata": {
        "id": "1XuwVAlbYMWV"
      },
      "outputs": [],
      "source": [
        "# simulating out degree power law distributed sequence and configuration model (BA graph) with estimated gamma\n",
        "out_sequence = nx.utils.powerlaw_sequence(N,exponent= out_power.power_law.alpha)\n",
        "out_sequence = [int(x) for x in out_sequence]\n",
        "if sum(out_sequence)%2!=0:\n",
        "    node_idx=random.choice(range(0,len(out_sequence)))\n",
        "    out_sequence[node_idx]+=1\n",
        "simulated_BA_out = nx.configuration_model(out_sequence)"
      ]
    },
    {
      "cell_type": "code",
      "execution_count": null,
      "metadata": {
        "id": "ajjb0ZRnYMWW"
      },
      "outputs": [],
      "source": [
        "# getting the distribution\n",
        "BA_out_degree = sorted([d for n, d in simulated_BA_out.degree()])\n",
        "BA_out_degree_count = collections.Counter(BA_out_degree)\n",
        "BA_out_deg, BA_out_count = list(dict(BA_out_degree_count).keys()), list(dict(BA_out_degree_count).values())"
      ]
    },
    {
      "cell_type": "code",
      "execution_count": null,
      "metadata": {
        "colab": {
          "base_uri": "https://localhost:8080/",
          "height": 387
        },
        "id": "oAJGCmFXYMWW",
        "outputId": "3eb31c24-33fa-4b01-b62a-30578a4970e1"
      },
      "outputs": [
        {
          "name": "stderr",
          "output_type": "stream",
          "text": [
            "C:\\Users\\felip\\AppData\\Local\\Temp\\ipykernel_3764\\70758469.py:3: RuntimeWarning: divide by zero encountered in log\n",
            "  plt.scatter(np.log(in_deg), np.log(in_count), color='hotpink')\n"
          ]
        },
        {
          "data": {
            "image/png": "[encoded data removed]",
            "text/plain": [
              "<Figure size 720x360 with 1 Axes>"
            ]
          },
          "metadata": {
            "needs_background": "light"
          },
          "output_type": "display_data"
        }
      ],
      "source": [
        "# Plot the in-degree distribution compared to simulated version with same gamma\n",
        "fig, ax = plt.subplots(figsize = (10,5))\n",
        "plt.scatter(np.log(in_deg), np.log(in_count), color='hotpink')\n",
        "plt.scatter(np.log(BA_in_deg), np.log(BA_in_count), color='limegreen')\n",
        "plt.xscale('log')\n",
        "plt.yscale('log')\n",
        "plt.title('In-Degree Distribution (Log Log)')\n",
        "plt.ylabel('Frequency')\n",
        "plt.xlabel('Degree')\n",
        "plt.legend(['In-degree network','BA simulated Network'])\n",
        "plt.show()"
      ]
    },
    {
      "cell_type": "code",
      "execution_count": null,
      "metadata": {
        "colab": {
          "base_uri": "https://localhost:8080/",
          "height": 387
        },
        "id": "1IHBED0AYMWX",
        "outputId": "bd1bbd0e-0301-4b75-b3c1-efa0a5aaf171"
      },
      "outputs": [
        {
          "name": "stderr",
          "output_type": "stream",
          "text": [
            "C:\\Users\\felip\\AppData\\Local\\Temp\\ipykernel_3764\\3044214462.py:3: RuntimeWarning: divide by zero encountered in log\n",
            "  plt.scatter(np.log(out_deg), np.log(out_count), color='blue')\n"
          ]
        },
        {
          "data": {
            "image/png": "[encoded data removed]",
            "text/plain": [
              "<Figure size 720x360 with 1 Axes>"
            ]
          },
          "metadata": {
            "needs_background": "light"
          },
          "output_type": "display_data"
        }
      ],
      "source": [
        "# Plot the out-degree distribution compared to simulated version with same gamma\n",
        "fig, ax = plt.subplots(figsize = (10,5))\n",
        "plt.scatter(np.log(out_deg), np.log(out_count), color='blue')\n",
        "plt.scatter(np.log(BA_out_deg), np.log(BA_out_count), color='limegreen')\n",
        "plt.xscale('log')\n",
        "plt.yscale('log')\n",
        "plt.title('In-Degree Distribution (Log Log)')\n",
        "plt.ylabel('Frequency')\n",
        "plt.xlabel('Degree')\n",
        "plt.legend(['Out-degree network','BA simulated Network'])\n",
        "plt.show()"
      ]
    },
    {
      "cell_type": "markdown",
      "metadata": {
        "id": "kskAdt5wWW3F"
      },
      "source": [
        ">* it is easy to see that the in degree network and BA simulated network with same $\\gamma$ show a reasonably good fit, as both curves are close together. On the other hand, when it comes to the out degree distribution, the fit seems much poorer, as the simulated BA network differs quite a lot from the out-degree graph curve. "
      ]
    },
    {
      "cell_type": "code",
      "execution_count": null,
      "metadata": {
        "id": "kdn-P2YQYMWX"
      },
      "outputs": [],
      "source": [
        "# getting undirected version of the Graph\n",
        "Non_dir_G = nx.Graph(G)"
      ]
    },
    {
      "cell_type": "code",
      "execution_count": null,
      "metadata": {
        "id": "k1fe_Yg1YMWY"
      },
      "outputs": [],
      "source": [
        "node_colors=[]\n",
        "dc_heroes, marvel_heroes = set(dc_big_df.hero.values), set(marvel_big_df.hero.values)\n",
        "for node in Non_dir_G.nodes(data=True):\n",
        "    if node[0] in marvel_heroes:\n",
        "        node_colors.append('#000000')\n",
        "    else:\n",
        "        node_colors.append('#880808')\n",
        "\n",
        "pos = nx.kamada_kawai_layout(Non_dir_G)\n",
        "degrees = [val for node,val in Non_dir_G.degree()]"
      ]
    },
    {
      "cell_type": "code",
      "execution_count": null,
      "metadata": {
        "colab": {
          "base_uri": "https://localhost:8080/",
          "height": 1000
        },
        "id": "4E8N_tnXYMWY",
        "outputId": "91edf1ea-6136-4b48-8f10-e39862cae6e2"
      },
      "outputs": [
        {
          "name": "stderr",
          "output_type": "stream",
          "text": [
            "100%|██████████| 400/400 [00:04<00:00, 83.26it/s]\n"
          ]
        },
        {
          "name": "stdout",
          "output_type": "stream",
          "text": [
            "BarnesHut Approximation  took  2.31  seconds\n",
            "Repulsion forces  took  2.06  seconds\n",
            "Gravitational forces  took  0.00  seconds\n",
            "Attraction forces  took  0.10  seconds\n",
            "AdjustSpeedAndApplyForces step  took  0.12  seconds\n"
          ]
        },
        {
          "data": {
            "image/png": "[encoded data removed]",
            "text/plain": [
              "<Figure size 1000x1000 with 1 Axes>"
            ]
          },
          "metadata": {},
          "output_type": "display_data"
        }
      ],
      "source": [
        "from fa2 import ForceAtlas2\n",
        "import matplotlib.pyplot as plt\n",
        "Non_dir_G = nx.Graph(G)\n",
        "fig = plt.figure(1, figsize=(100, 100), dpi=10,tight_layout=True)\n",
        "forceatlas2 = ForceAtlas2(\n",
        "                        outboundAttractionDistribution=True, \n",
        "                        linLogMode=False,\n",
        "                        adjustSizes=False,  \n",
        "                        edgeWeightInfluence=1.0,\n",
        "                        barnesHutOptimize=True,\n",
        "                        barnesHutTheta=2,\n",
        "                        multiThreaded=False, \n",
        "                        scalingRatio=2.0,\n",
        "                        strongGravityMode=True,\n",
        "                        gravity=1,\n",
        "                        verbose=True)\n",
        "node_size = [i * 20 for i in degrees]\n",
        "positions = forceatlas2.forceatlas2_networkx_layout(Non_dir_G, pos=pos, iterations=400)\n",
        "nx.draw_networkx_nodes(Non_dir_G, positions, node_size=node_size, node_color=node_colors, alpha=1)\n",
        "nx.draw_networkx_edges(Non_dir_G, positions, alpha=0.5)\n",
        "plt.axis('off')\n",
        "plt.show()"
      ]
    },
    {
      "cell_type": "markdown",
      "metadata": {
        "id": "-U-LKNUYYMWZ"
      },
      "source": [
        "# Communities\n",
        "\n",
        "Identify the communities in one or both of the superhero universes (DC/Marvel) as described in Week 7.\n",
        "\n",
        "Visualize the communities by coloring the graph's nodes according to community affiliation - also as described in Week 7.\n",
        "\n",
        "Write a paragraph about your work to identify the communities. The paragraph should include\n",
        "\n",
        "* Information about the algorithm you used to find communities.\n",
        "* The value of modularity for your network.\n",
        "* The number of communities and their sizes (in terms of number of nodes).\n",
        "\n",
        "For the 10 largest communities, process the text in order to create a TF-IDF vector for each community. Explain in your own words how TF-IDF works.\n",
        "\n",
        "Then visualize the TF-IDF vectors using wordclouds (as described in Week 7). Remember to comment on your word-clouds (e.g. in the figure captions): Do the wordclouds/TF-IDF lists enable you to understand the communities you have found (or is it just gibberish)? Justify your answer."
      ]
    },
    {
      "cell_type": "code",
      "source": [
        "dc_big_df.head()"
      ],
      "metadata": {
        "id": "fOegzCGhZbtR",
        "colab": {
          "base_uri": "https://localhost:8080/",
          "height": 354
        },
        "outputId": "ee5dcdbc-fc05-4e9b-94e5-2ca735b9555e"
      },
      "execution_count": null,
      "outputs": [
        {
          "output_type": "execute_result",
          "data": {
            "text/plain": [
              "   Unnamed: 0                      hero  \\\n",
              "0           0                  Abin Sur   \n",
              "1           1  Abra Kadabra (character)   \n",
              "2           2              Abby Holland   \n",
              "3           3         Ace the Bat-Hound   \n",
              "4           4              Adam Strange   \n",
              "\n",
              "                                                text  \\\n",
              "0  {{Refimprove|date=March 2008}}\\n{{Infobox comi...   \n",
              "1  {{Infobox comics character\\n<!--Wikipedia:Wiki...   \n",
              "2  {{short description|Fictional comic book chara...   \n",
              "3  {{short description|DC Comics character}}\\n{{U...   \n",
              "4  {{Short description|DC Comics fictional charac...   \n",
              "\n",
              "                                               links  \\\n",
              "0  [DC Comics, John Broome (writer), Gil Kane, Li...   \n",
              "1  [Oscar Jimenez (comics), Anibal Rodriguez, Hum...   \n",
              "2  [File:SwampThing22.jpg, Swamp Thing (comic boo...   \n",
              "3  [Detective Comics, 2019 in comics, Tony S. Dan...   \n",
              "4  [Alex Ross, DC Comics, Showcase (comics), Juli...   \n",
              "\n",
              "                                        heroes_links universe  \\\n",
              "0  [Green Lantern, Bulletman and Bulletgirl, Lex ...       dc   \n",
              "1  [Captain Cold, Heat Wave (comics), Weather Wiz...       dc   \n",
              "2  [Anton Arcane, Etrigan the Demon, Batman, Dead...       dc   \n",
              "3  [Raven (DC Comics), Azrael (DC Comics), Animal...       dc   \n",
              "4  [Green Lantern, Hawkman, Animal Man, Batman, D...       dc   \n",
              "\n",
              "                                        text_cleaned  n_words_desc  \n",
              "0  Abin Sur is a superhero appearing in American ...          4890  \n",
              "1  Abra Kadabra Citizen Abra is a magical supervi...          2420  \n",
              "2  Abigail Arcane Cable Holland is a fictional co...          4104  \n",
              "3  Ace the Bat Hound is a superhero dog appearing...          2937  \n",
              "4       New 52 Omniscience Omnipresence Omnipotence           6762  "
            ],
            "text/html": [
              "\n",
              "  <div id=\"df-1eb8d6a9-71f2-456d-ace0-0b0ff78a764c\">\n",
              "    <div class=\"colab-df-container\">\n",
              "      <div>\n",
              "<style scoped>\n",
              "    .dataframe tbody tr th:only-of-type {\n",
              "        vertical-align: middle;\n",
              "    }\n",
              "\n",
              "    .dataframe tbody tr th {\n",
              "        vertical-align: top;\n",
              "    }\n",
              "\n",
              "    .dataframe thead th {\n",
              "        text-align: right;\n",
              "    }\n",
              "</style>\n",
              "<table border=\"1\" class=\"dataframe\">\n",
              "  <thead>\n",
              "    <tr style=\"text-align: right;\">\n",
              "      <th></th>\n",
              "      <th>Unnamed: 0</th>\n",
              "      <th>hero</th>\n",
              "      <th>text</th>\n",
              "      <th>links</th>\n",
              "      <th>heroes_links</th>\n",
              "      <th>universe</th>\n",
              "      <th>text_cleaned</th>\n",
              "      <th>n_words_desc</th>\n",
              "    </tr>\n",
              "  </thead>\n",
              "  <tbody>\n",
              "    <tr>\n",
              "      <th>0</th>\n",
              "      <td>0</td>\n",
              "      <td>Abin Sur</td>\n",
              "      <td>{{Refimprove|date=March 2008}}\\n{{Infobox comi...</td>\n",
              "      <td>[DC Comics, John Broome (writer), Gil Kane, Li...</td>\n",
              "      <td>[Green Lantern, Bulletman and Bulletgirl, Lex ...</td>\n",
              "      <td>dc</td>\n",
              "      <td>Abin Sur is a superhero appearing in American ...</td>\n",
              "      <td>4890</td>\n",
              "    </tr>\n",
              "    <tr>\n",
              "      <th>1</th>\n",
              "      <td>1</td>\n",
              "      <td>Abra Kadabra (character)</td>\n",
              "      <td>{{Infobox comics character\\n&lt;!--Wikipedia:Wiki...</td>\n",
              "      <td>[Oscar Jimenez (comics), Anibal Rodriguez, Hum...</td>\n",
              "      <td>[Captain Cold, Heat Wave (comics), Weather Wiz...</td>\n",
              "      <td>dc</td>\n",
              "      <td>Abra Kadabra Citizen Abra is a magical supervi...</td>\n",
              "      <td>2420</td>\n",
              "    </tr>\n",
              "    <tr>\n",
              "      <th>2</th>\n",
              "      <td>2</td>\n",
              "      <td>Abby Holland</td>\n",
              "      <td>{{short description|Fictional comic book chara...</td>\n",
              "      <td>[File:SwampThing22.jpg, Swamp Thing (comic boo...</td>\n",
              "      <td>[Anton Arcane, Etrigan the Demon, Batman, Dead...</td>\n",
              "      <td>dc</td>\n",
              "      <td>Abigail Arcane Cable Holland is a fictional co...</td>\n",
              "      <td>4104</td>\n",
              "    </tr>\n",
              "    <tr>\n",
              "      <th>3</th>\n",
              "      <td>3</td>\n",
              "      <td>Ace the Bat-Hound</td>\n",
              "      <td>{{short description|DC Comics character}}\\n{{U...</td>\n",
              "      <td>[Detective Comics, 2019 in comics, Tony S. Dan...</td>\n",
              "      <td>[Raven (DC Comics), Azrael (DC Comics), Animal...</td>\n",
              "      <td>dc</td>\n",
              "      <td>Ace the Bat Hound is a superhero dog appearing...</td>\n",
              "      <td>2937</td>\n",
              "    </tr>\n",
              "    <tr>\n",
              "      <th>4</th>\n",
              "      <td>4</td>\n",
              "      <td>Adam Strange</td>\n",
              "      <td>{{Short description|DC Comics fictional charac...</td>\n",
              "      <td>[Alex Ross, DC Comics, Showcase (comics), Juli...</td>\n",
              "      <td>[Green Lantern, Hawkman, Animal Man, Batman, D...</td>\n",
              "      <td>dc</td>\n",
              "      <td>New 52 Omniscience Omnipresence Omnipotence</td>\n",
              "      <td>6762</td>\n",
              "    </tr>\n",
              "  </tbody>\n",
              "</table>\n",
              "</div>\n",
              "      <button class=\"colab-df-convert\" onclick=\"convertToInteractive('df-1eb8d6a9-71f2-456d-ace0-0b0ff78a764c')\"\n",
              "              title=\"Convert this dataframe to an interactive table.\"\n",
              "              style=\"display:none;\">\n",
              "        \n",
              "  <svg xmlns=\"http://www.w3.org/2000/svg\" height=\"24px\"viewBox=\"0 0 24 24\"\n",
              "       width=\"24px\">\n",
              "    <path d=\"M0 0h24v24H0V0z\" fill=\"none\"/>\n",
              "    <path d=\"M18.56 5.44l.94 2.06.94-2.06 2.06-.94-2.06-.94-.94-2.06-.94 2.06-2.06.94zm-11 1L8.5 8.5l.94-2.06 2.06-.94-2.06-.94L8.5 2.5l-.94 2.06-2.06.94zm10 10l.94 2.06.94-2.06 2.06-.94-2.06-.94-.94-2.06-.94 2.06-2.06.94z\"/><path d=\"M17.41 7.96l-1.37-1.37c-.4-.4-.92-.59-1.43-.59-.52 0-1.04.2-1.43.59L10.3 9.45l-7.72 7.72c-.78.78-.78 2.05 0 2.83L4 21.41c.39.39.9.59 1.41.59.51 0 1.02-.2 1.41-.59l7.78-7.78 2.81-2.81c.8-.78.8-2.07 0-2.86zM5.41 20L4 18.59l7.72-7.72 1.47 1.35L5.41 20z\"/>\n",
              "  </svg>\n",
              "      </button>\n",
              "      \n",
              "  <style>\n",
              "    .colab-df-container {\n",
              "      display:flex;\n",
              "      flex-wrap:wrap;\n",
              "      gap: 12px;\n",
              "    }\n",
              "\n",
              "    .colab-df-convert {\n",
              "      background-color: #E8F0FE;\n",
              "      border: none;\n",
              "      border-radius: 50%;\n",
              "      cursor: pointer;\n",
              "      display: none;\n",
              "      fill: #1967D2;\n",
              "      height: 32px;\n",
              "      padding: 0 0 0 0;\n",
              "      width: 32px;\n",
              "    }\n",
              "\n",
              "    .colab-df-convert:hover {\n",
              "      background-color: #E2EBFA;\n",
              "      box-shadow: 0px 1px 2px rgba(60, 64, 67, 0.3), 0px 1px 3px 1px rgba(60, 64, 67, 0.15);\n",
              "      fill: #174EA6;\n",
              "    }\n",
              "\n",
              "    [theme=dark] .colab-df-convert {\n",
              "      background-color: #3B4455;\n",
              "      fill: #D2E3FC;\n",
              "    }\n",
              "\n",
              "    [theme=dark] .colab-df-convert:hover {\n",
              "      background-color: #434B5C;\n",
              "      box-shadow: 0px 1px 3px 1px rgba(0, 0, 0, 0.15);\n",
              "      filter: drop-shadow(0px 1px 2px rgba(0, 0, 0, 0.3));\n",
              "      fill: #FFFFFF;\n",
              "    }\n",
              "  </style>\n",
              "\n",
              "      <script>\n",
              "        const buttonEl =\n",
              "          document.querySelector('#df-1eb8d6a9-71f2-456d-ace0-0b0ff78a764c button.colab-df-convert');\n",
              "        buttonEl.style.display =\n",
              "          google.colab.kernel.accessAllowed ? 'block' : 'none';\n",
              "\n",
              "        async function convertToInteractive(key) {\n",
              "          const element = document.querySelector('#df-1eb8d6a9-71f2-456d-ace0-0b0ff78a764c');\n",
              "          const dataTable =\n",
              "            await google.colab.kernel.invokeFunction('convertToInteractive',\n",
              "                                                     [key], {});\n",
              "          if (!dataTable) return;\n",
              "\n",
              "          const docLinkHtml = 'Like what you see? Visit the ' +\n",
              "            '<a target=\"_blank\" href=https://colab.research.google.com/notebooks/data_table.ipynb>data table notebook</a>'\n",
              "            + ' to learn more about interactive tables.';\n",
              "          element.innerHTML = '';\n",
              "          dataTable['output_type'] = 'display_data';\n",
              "          await google.colab.output.renderOutput(dataTable, element);\n",
              "          const docLink = document.createElement('div');\n",
              "          docLink.innerHTML = docLinkHtml;\n",
              "          element.appendChild(docLink);\n",
              "        }\n",
              "      </script>\n",
              "    </div>\n",
              "  </div>\n",
              "  "
            ]
          },
          "metadata": {},
          "execution_count": 27
        }
      ]
    },
    {
      "cell_type": "code",
      "source": [
        "marvel_big_df['n_words_desc'] = marvel_big_df.text.apply(lambda text:len([word for word in re.sub('\\W+',' ', text).split(' ') if len(word) > 1]) )\n",
        "dc_big_df['n_words_desc'] = dc_big_df.text.apply(lambda text:len([word for word in re.sub('\\W+',' ', text).split(' ') if len(word) > 1]) )\n",
        "\n",
        "\n",
        "\n",
        "all_heroes = np.concatenate((dc_big_df.hero.values,marvel_big_df.hero.values))\n",
        "dc_big_df['heroes_links'] = dc_big_df['links'].apply(lambda x: list(set(x).intersection(all_heroes)))\n",
        "dc_big_df['universe'] = 'dc'\n",
        "marvel_big_df['heroes_links'] = marvel_big_df['links'].apply(lambda x: list(set(x).intersection(all_heroes)))\n",
        "marvel_big_df['universe'] = 'marvel'\n",
        "dc_links_df= dc_big_df[['hero','heroes_links','universe']]\n",
        "dc_explode=dc_links_df.explode('heroes_links').reset_index(drop=True)\n",
        "marvel_links_df= marvel_big_df[['hero','heroes_links','universe']]\n",
        "marvel_explode=marvel_links_df.explode('heroes_links').reset_index(drop=True)\n",
        "\n",
        "\n",
        "dc_edges = list(dc_explode[['hero','heroes_links']].itertuples(index=False, name=None))\n",
        "marvel_edges = list(marvel_explode[['hero','heroes_links']].itertuples(index=False, name=None))\n",
        "\n",
        "import networkx as nx\n",
        "G = nx.DiGraph()\n",
        "dc_words = dc_big_df['n_words_desc'].values\n",
        "for i, hero in enumerate(dc_big_df['hero'].values):\n",
        "    G.add_node(hero, universe='dc', n_words_desc=dc_words[i])\n",
        "    \n",
        "marvel_words = marvel_big_df['n_words_desc'].values\n",
        "for i, hero in enumerate(marvel_big_df['hero'].values):\n",
        "    G.add_node(hero, universe='marvel', n_words_desc=marvel_words[i])\n",
        "    \n",
        "G.add_edges_from(dc_edges)\n",
        "G.add_edges_from(marvel_edges)\n",
        "\n",
        "dc_links_df['n_edges'] = dc_links_df['heroes_links'].apply(lambda x: len(x))\n",
        "marvel_links_df['n_edges'] = marvel_links_df['heroes_links'].apply(lambda x: len(x))\n",
        "\n",
        "marvel_no_links = marvel_links_df[marvel_links_df['n_edges']==0]['hero'].values\n",
        "dc_no_links = dc_links_df[dc_links_df['n_edges']==0]['hero'].values\n",
        "\n",
        "G.remove_nodes_from(marvel_no_links)\n",
        "G.remove_nodes_from(dc_no_links)"
      ],
      "metadata": {
        "id": "1YyDceXayMxC",
        "colab": {
          "base_uri": "https://localhost:8080/"
        },
        "outputId": "61b8bda3-c492-4488-b355-cffc99292c88"
      },
      "execution_count": null,
      "outputs": [
        {
          "output_type": "stream",
          "name": "stderr",
          "text": [
            "/usr/local/lib/python3.7/dist-packages/ipykernel_launcher.py:33: SettingWithCopyWarning: \n",
            "A value is trying to be set on a copy of a slice from a DataFrame.\n",
            "Try using .loc[row_indexer,col_indexer] = value instead\n",
            "\n",
            "See the caveats in the documentation: https://pandas.pydata.org/pandas-docs/stable/user_guide/indexing.html#returning-a-view-versus-a-copy\n",
            "/usr/local/lib/python3.7/dist-packages/ipykernel_launcher.py:34: SettingWithCopyWarning: \n",
            "A value is trying to be set on a copy of a slice from a DataFrame.\n",
            "Try using .loc[row_indexer,col_indexer] = value instead\n",
            "\n",
            "See the caveats in the documentation: https://pandas.pydata.org/pandas-docs/stable/user_guide/indexing.html#returning-a-view-versus-a-copy\n"
          ]
        }
      ]
    },
    {
      "cell_type": "code",
      "source": [
        "Non_dir_G = nx.Graph(G)"
      ],
      "metadata": {
        "id": "g27UKnGM1ca6"
      },
      "execution_count": null,
      "outputs": []
    },
    {
      "cell_type": "code",
      "source": [
        "marvel_nodes = list(\n",
        "    node\n",
        "    for node, data\n",
        "    in Non_dir_G.nodes(data=True)\n",
        "    if data.get(\"universe\") == \"marvel\"\n",
        ")\n",
        "\n",
        "dc_nodes = list(\n",
        "    node\n",
        "    for node, data\n",
        "    in Non_dir_G.nodes(data=True)\n",
        "    if data.get(\"universe\") == \"dc\"\n",
        ")\n",
        "partition_dict = {}\n",
        "for i in marvel_nodes:\n",
        "    partition_dict[i]='dc'\n",
        "for i in dc_nodes:\n",
        "    partition_dict[i]='marvel'  "
      ],
      "metadata": {
        "id": "o7ggpKe53KwG"
      },
      "execution_count": null,
      "outputs": []
    },
    {
      "cell_type": "code",
      "source": [
        "marvel_G = Non_dir_G.subgraph(marvel_nodes)\n",
        "dc_G = Non_dir_G.subgraph(dc_nodes)"
      ],
      "metadata": {
        "id": "002ZXE4W3Kzo"
      },
      "execution_count": null,
      "outputs": []
    },
    {
      "cell_type": "code",
      "source": [
        "marvel_L = len(list(marvel_G.edges))\n",
        "dc_L = len(list(dc_G.edges))\n",
        "marvel_k = len(list(marvel_G.nodes))\n",
        "dc_k = len(list(dc_G.nodes))\n",
        "total_L = len(list(Non_dir_G.edges))\n"
      ],
      "metadata": {
        "id": "tx_aF4f5_Njt"
      },
      "execution_count": null,
      "outputs": []
    },
    {
      "cell_type": "code",
      "source": [
        "marvel_part = marvel_L/total_L - (marvel_k/(2*(total_L)))**2\n",
        "dc_part = dc_L/total_L - (dc_k/(2*(total_L)))**2\n",
        "total = marvel_part + dc_part\n",
        "print(total)"
      ],
      "metadata": {
        "id": "YML6wGs1_NmX",
        "colab": {
          "base_uri": "https://localhost:8080/"
        },
        "outputId": "39f9de44-1f94-49dc-ff51-788ddfdc9588"
      },
      "execution_count": null,
      "outputs": [
        {
          "output_type": "stream",
          "name": "stdout",
          "text": [
            "0.9850198128737111\n"
          ]
        }
      ]
    },
    {
      "cell_type": "code",
      "source": [
        "!pip install community"
      ],
      "metadata": {
        "id": "vCdp47Zk_z6z",
        "colab": {
          "base_uri": "https://localhost:8080/"
        },
        "outputId": "6f555f9c-2f63-4a3b-f3a0-f2f00bf0e5ed"
      },
      "execution_count": null,
      "outputs": [
        {
          "output_type": "stream",
          "name": "stdout",
          "text": [
            "Looking in indexes: https://pypi.org/simple, https://us-python.pkg.dev/colab-wheels/public/simple/\n",
            "Requirement already satisfied: community in /usr/local/lib/python3.7/dist-packages (1.0.0b1)\n",
            "Requirement already satisfied: requests in /usr/local/lib/python3.7/dist-packages (from community) (2.23.0)\n",
            "Requirement already satisfied: Flask in /usr/local/lib/python3.7/dist-packages (from community) (1.1.4)\n",
            "Requirement already satisfied: click<8.0,>=5.1 in /usr/local/lib/python3.7/dist-packages (from Flask->community) (7.1.2)\n",
            "Requirement already satisfied: Werkzeug<2.0,>=0.15 in /usr/local/lib/python3.7/dist-packages (from Flask->community) (1.0.1)\n",
            "Requirement already satisfied: Jinja2<3.0,>=2.10.1 in /usr/local/lib/python3.7/dist-packages (from Flask->community) (2.11.3)\n",
            "Requirement already satisfied: itsdangerous<2.0,>=0.24 in /usr/local/lib/python3.7/dist-packages (from Flask->community) (1.1.0)\n",
            "Requirement already satisfied: MarkupSafe>=0.23 in /usr/local/lib/python3.7/dist-packages (from Jinja2<3.0,>=2.10.1->Flask->community) (2.0.1)\n",
            "Requirement already satisfied: urllib3!=1.25.0,!=1.25.1,<1.26,>=1.21.1 in /usr/local/lib/python3.7/dist-packages (from requests->community) (1.24.3)\n",
            "Requirement already satisfied: certifi>=2017.4.17 in /usr/local/lib/python3.7/dist-packages (from requests->community) (2022.9.24)\n",
            "Requirement already satisfied: idna<3,>=2.5 in /usr/local/lib/python3.7/dist-packages (from requests->community) (2.10)\n",
            "Requirement already satisfied: chardet<4,>=3.0.2 in /usr/local/lib/python3.7/dist-packages (from requests->community) (3.0.4)\n"
          ]
        }
      ]
    },
    {
      "cell_type": "code",
      "source": [
        "from community import community_louvain\n",
        "#first compute the best partition\n",
        "partition = community_louvain.best_partition(dc_G)\n",
        "\n",
        "#drawing\n",
        "size = float(len(set(partition.values())))\n",
        "pos = nx.spring_layout(dc_G)\n",
        "count = 0.\n",
        "for com in set(partition.values()) :\n",
        "    count = count + 1.\n",
        "    list_nodes = [nodes for nodes in partition.keys()\n",
        "                                if partition[nodes] == com]\n",
        "    nx.draw_networkx_nodes(dc_G, pos, list_nodes, node_size = 20,\n",
        "                                node_color = str(count / size))\n",
        "\n",
        "\n",
        "nx.draw_networkx_edges(dc_G,pos, alpha=0.5)\n",
        "plt.show()"
      ],
      "metadata": {
        "id": "TpAEssqz_No1",
        "colab": {
          "base_uri": "https://localhost:8080/",
          "height": 248
        },
        "outputId": "9b5fde96-99eb-4398-cfb8-66b042a2018d"
      },
      "execution_count": null,
      "outputs": [
        {
          "output_type": "display_data",
          "data": {
            "text/plain": [
              "<Figure size 432x288 with 1 Axes>"
            ],
            "image/png": "[encoded data removed]"
          },
          "metadata": {}
        }
      ]
    },
    {
      "cell_type": "code",
      "source": [
        "\n",
        "import copy\n",
        "import networkx\n",
        "import matplotlib.pyplot as plt\n",
        "\n",
        "# Generate a graph.\n",
        "# Here I chose an ER graph.\n",
        "\n",
        "# Get positions.\n",
        "# Here I use the spectral layout and add a little bit of noise.\n",
        "\n",
        "# Create position copies for shadows, and shift shadows\n",
        "pos_shadow = copy.deepcopy(pos)\n",
        "shift_amount = 0.006\n",
        "for idx in pos_shadow:\n",
        "    pos_shadow[idx][0] += shift_amount\n",
        "    pos_shadow[idx][1] -= shift_amount\n",
        "\n",
        "#~~~~~~~~~~~~\n",
        "# Draw graph\n",
        "#~~~~~~~~~~~~\n",
        "fig = plt.figure(frameon=False)\n",
        "ax = fig.add_axes([0, 0, 1, 1])\n",
        "ax.axis('off')\n",
        "\n",
        "nx.draw_networkx_edges(dc_G, pos, width=0.5)"
      ],
      "metadata": {
        "id": "m3-bA9muD0Ia",
        "colab": {
          "base_uri": "https://localhost:8080/",
          "height": 336
        },
        "outputId": "4cc2d844-41d7-45a1-d388-9d5715c9662a"
      },
      "execution_count": null,
      "outputs": [
        {
          "output_type": "execute_result",
          "data": {
            "text/plain": [
              "<matplotlib.collections.LineCollection at 0x7f9c6d5e0f50>"
            ]
          },
          "metadata": {},
          "execution_count": 36
        },
        {
          "output_type": "display_data",
          "data": {
            "text/plain": [
              "<Figure size 432x288 with 1 Axes>"
            ],
            "image/png": "[encoded data removed]"
          },
          "metadata": {}
        }
      ]
    },
    {
      "cell_type": "code",
      "source": [
        "marvel_partition = community_louvain.best_partition(marvel_G)"
      ],
      "metadata": {
        "id": "3lBrGRUoAa0_"
      },
      "execution_count": null,
      "outputs": []
    },
    {
      "cell_type": "code",
      "source": [
        "count_dict = {}\n",
        "count=0\n",
        "for key, value in marvel_partition.items():\n",
        "    count_dict[value]=0\n",
        "for key, value in marvel_partition.items():\n",
        "    count_dict[value]+=1  \n",
        "    count = count+1"
      ],
      "metadata": {
        "id": "gy1L8FXvVg0z"
      },
      "execution_count": null,
      "outputs": []
    },
    {
      "cell_type": "markdown",
      "source": [
        "We used the Louvain algorithm to find the communities. It is an unsupervised algorithm that is able to detect communities without imputing their number nor sizes. It does so by finding the configuration of communities that maximize the modularity M. The method will randomly order all nodes in the network and it will remove and insert each node in a different community 𝐶 until no significant increase in modularity is verified, the significant value of modularity is given as input.\n",
        "\n",
        "$M_c=\\frac{1}{2L}\\sum_{(i,j)}∈C_c(A_{ij}−p_{ij})$\n",
        "\n",
        "After optimizing the modularity, all nodes belonging to the same community are merged into a single giant node. Links connecting the giant nodes are the result of the sum of the link values from the previous link connection.\n",
        "\n",
        "We chose this algorithm because a higher modularity implies better partitioning and this algorithm focus on maximizing the modularity.\n",
        "\n",
        "Reference: https://towardsdatascience.com/louvain-algorithm-93fde589f58c"
      ],
      "metadata": {
        "id": "9LV3UBFSzu2g"
      }
    },
    {
      "cell_type": "markdown",
      "source": [
        "For our graph we got a modularity of"
      ],
      "metadata": {
        "id": "-JKLVGoG0JtI"
      }
    },
    {
      "cell_type": "code",
      "source": [
        "print(total)"
      ],
      "metadata": {
        "id": "3mXfQtOlztis",
        "colab": {
          "base_uri": "https://localhost:8080/"
        },
        "outputId": "52a36e57-463c-4d84-d715-9cf2780f433f"
      },
      "execution_count": null,
      "outputs": [
        {
          "output_type": "stream",
          "name": "stdout",
          "text": [
            "0.9850198128737111\n"
          ]
        }
      ]
    },
    {
      "cell_type": "markdown",
      "source": [
        "We have 9 communities distributed as follow"
      ],
      "metadata": {
        "id": "IbFYeF150LaJ"
      }
    },
    {
      "cell_type": "code",
      "source": [
        "count_dict"
      ],
      "metadata": {
        "id": "ikGoUeRkViUB",
        "colab": {
          "base_uri": "https://localhost:8080/"
        },
        "outputId": "56117ad8-fb57-4391-fb88-56c90551b402"
      },
      "execution_count": null,
      "outputs": [
        {
          "output_type": "execute_result",
          "data": {
            "text/plain": [
              "{0: 188, 1: 235, 2: 140, 3: 264, 4: 77, 6: 63, 7: 87, 8: 19, 5: 2}"
            ]
          },
          "metadata": {},
          "execution_count": 40
        }
      ]
    },
    {
      "cell_type": "markdown",
      "source": [
        "The TF-IDF is a statistic that reflect how important is a word in a document. The process is as follow, taking a document corpus, we can can determine the importance of a word by taking a ratio of the frequency of how many time the word is in a document by the requency of that same word in the whole corpus. It's called term-frequency and inverse document frequency."
      ],
      "metadata": {
        "id": "5lK18Jv4PKYT"
      }
    },
    {
      "cell_type": "code",
      "source": [
        "res = list(partition.keys())\n",
        "for key in res:\n",
        "    community = partition.get(key)\n",
        "    dc_big_df[dc_big_df['hero'] == key]\n",
        "    dc_big_df[dc_big_df['hero'] == key]['community'] =community\n",
        "dc_big_df"
      ],
      "metadata": {
        "id": "Wo2FdgjcQxNg",
        "colab": {
          "base_uri": "https://localhost:8080/",
          "height": 763
        },
        "outputId": "5864c740-981e-4db4-d501-1fee2954fb36"
      },
      "execution_count": null,
      "outputs": [
        {
          "output_type": "stream",
          "name": "stderr",
          "text": [
            "/usr/local/lib/python3.7/dist-packages/ipykernel_launcher.py:5: SettingWithCopyWarning: \n",
            "A value is trying to be set on a copy of a slice from a DataFrame.\n",
            "Try using .loc[row_indexer,col_indexer] = value instead\n",
            "\n",
            "See the caveats in the documentation: https://pandas.pydata.org/pandas-docs/stable/user_guide/indexing.html#returning-a-view-versus-a-copy\n",
            "  \"\"\"\n"
          ]
        },
        {
          "output_type": "execute_result",
          "data": {
            "text/plain": [
              "     Unnamed: 0                                    hero  \\\n",
              "0             0                                Abin Sur   \n",
              "1             1                Abra Kadabra (character)   \n",
              "2             2                            Abby Holland   \n",
              "3             3                       Ace the Bat-Hound   \n",
              "4             4                            Adam Strange   \n",
              "..          ...                                     ...   \n",
              "413         491  Sparta of Synriannaq#Character history   \n",
              "414         492    Cadre (comics)#Cadre of the Immortal   \n",
              "415         493                 Hell (DC Comics)#Fiends   \n",
              "416         494                                   Xombi   \n",
              "417         497               Hero Hotline#Support crew   \n",
              "\n",
              "                                                  text  \\\n",
              "0    {{Refimprove|date=March 2008}}\\n{{Infobox comi...   \n",
              "1    {{Infobox comics character\\n<!--Wikipedia:Wiki...   \n",
              "2    {{short description|Fictional comic book chara...   \n",
              "3    {{short description|DC Comics character}}\\n{{U...   \n",
              "4    {{Short description|DC Comics fictional charac...   \n",
              "..                                                 ...   \n",
              "413  {{Infobox comics character| <!--This box is pa...   \n",
              "414  {{Short description|DC Comics supervillain gro...   \n",
              "415  {{in-universe|date=November 2010}}\\n{{Infobox ...   \n",
              "416  {{short description|Fictional comics character...   \n",
              "417  {{Infobox comics organization <!--Wikipedia:Wi...   \n",
              "\n",
              "                                                 links  \\\n",
              "0    [DC Comics, John Broome (writer), Gil Kane, Li...   \n",
              "1    [Oscar Jimenez (comics), Anibal Rodriguez, Hum...   \n",
              "2    [File:SwampThing22.jpg, Swamp Thing (comic boo...   \n",
              "3    [Detective Comics, 2019 in comics, Tony S. Dan...   \n",
              "4    [Alex Ross, DC Comics, Showcase (comics), Juli...   \n",
              "..                                                 ...   \n",
              "413  [Image:NT54.jpg, Donna Troy, Wonder Girl, Geor...   \n",
              "414  [DC Comics, Justice League of America, Gerry C...   \n",
              "415  [:Category:Comics publishing companies, DC Com...   \n",
              "416  [DC Comics, John Rozum, Denys Cowan, superhero...   \n",
              "417  [Stephen DeStefano, DC Comics, Action Comics, ...   \n",
              "\n",
              "                                          heroes_links universe  \\\n",
              "0    [Green Lantern, Bulletman and Bulletgirl, Lex ...       dc   \n",
              "1    [Captain Cold, Heat Wave (comics), Weather Wiz...       dc   \n",
              "2    [Anton Arcane, Etrigan the Demon, Batman, Dead...       dc   \n",
              "3    [Raven (DC Comics), Azrael (DC Comics), Animal...       dc   \n",
              "4    [Green Lantern, Hawkman, Animal Man, Batman, D...       dc   \n",
              "..                                                 ...      ...   \n",
              "413                                     [Wonder Woman]       dc   \n",
              "414  [Livewire (DC Comics), Batman, Booster Gold, S...       dc   \n",
              "415  [Nightmaster, Felix Faust, Enchantress (DC Com...       dc   \n",
              "416                     [Green Lantern, Crispus Allen]       dc   \n",
              "417                          [Elongated Man, Bat-Mite]       dc   \n",
              "\n",
              "                                          text_cleaned  n_words_desc  \n",
              "0    Abin Sur is a superhero appearing in American ...          4890  \n",
              "1    Abra Kadabra Citizen Abra is a magical supervi...          2420  \n",
              "2    Abigail Arcane Cable Holland is a fictional co...          4104  \n",
              "3    Ace the Bat Hound is a superhero dog appearing...          2937  \n",
              "4         New 52 Omniscience Omnipresence Omnipotence           6762  \n",
              "..                                                 ...           ...  \n",
              "413  Sparta of Synriannaq is a fictional character ...           991  \n",
              "414  The Cadre is a DC Comics supervillain group ex...          1194  \n",
              "415  Hell a k a Gehenna Hades Hel Jahannam Sheol an...          9605  \n",
              "416  Xombi is a superhero published by DC Comics He...          1348  \n",
              "417  Hero Hotline is a fictional DC Comics corporat...           635  \n",
              "\n",
              "[418 rows x 8 columns]"
            ],
            "text/html": [
              "\n",
              "  <div id=\"df-696b6d48-9d20-4bd4-acf7-0eac39419a80\">\n",
              "    <div class=\"colab-df-container\">\n",
              "      <div>\n",
              "<style scoped>\n",
              "    .dataframe tbody tr th:only-of-type {\n",
              "        vertical-align: middle;\n",
              "    }\n",
              "\n",
              "    .dataframe tbody tr th {\n",
              "        vertical-align: top;\n",
              "    }\n",
              "\n",
              "    .dataframe thead th {\n",
              "        text-align: right;\n",
              "    }\n",
              "</style>\n",
              "<table border=\"1\" class=\"dataframe\">\n",
              "  <thead>\n",
              "    <tr style=\"text-align: right;\">\n",
              "      <th></th>\n",
              "      <th>Unnamed: 0</th>\n",
              "      <th>hero</th>\n",
              "      <th>text</th>\n",
              "      <th>links</th>\n",
              "      <th>heroes_links</th>\n",
              "      <th>universe</th>\n",
              "      <th>text_cleaned</th>\n",
              "      <th>n_words_desc</th>\n",
              "    </tr>\n",
              "  </thead>\n",
              "  <tbody>\n",
              "    <tr>\n",
              "      <th>0</th>\n",
              "      <td>0</td>\n",
              "      <td>Abin Sur</td>\n",
              "      <td>{{Refimprove|date=March 2008}}\\n{{Infobox comi...</td>\n",
              "      <td>[DC Comics, John Broome (writer), Gil Kane, Li...</td>\n",
              "      <td>[Green Lantern, Bulletman and Bulletgirl, Lex ...</td>\n",
              "      <td>dc</td>\n",
              "      <td>Abin Sur is a superhero appearing in American ...</td>\n",
              "      <td>4890</td>\n",
              "    </tr>\n",
              "    <tr>\n",
              "      <th>1</th>\n",
              "      <td>1</td>\n",
              "      <td>Abra Kadabra (character)</td>\n",
              "      <td>{{Infobox comics character\\n&lt;!--Wikipedia:Wiki...</td>\n",
              "      <td>[Oscar Jimenez (comics), Anibal Rodriguez, Hum...</td>\n",
              "      <td>[Captain Cold, Heat Wave (comics), Weather Wiz...</td>\n",
              "      <td>dc</td>\n",
              "      <td>Abra Kadabra Citizen Abra is a magical supervi...</td>\n",
              "      <td>2420</td>\n",
              "    </tr>\n",
              "    <tr>\n",
              "      <th>2</th>\n",
              "      <td>2</td>\n",
              "      <td>Abby Holland</td>\n",
              "      <td>{{short description|Fictional comic book chara...</td>\n",
              "      <td>[File:SwampThing22.jpg, Swamp Thing (comic boo...</td>\n",
              "      <td>[Anton Arcane, Etrigan the Demon, Batman, Dead...</td>\n",
              "      <td>dc</td>\n",
              "      <td>Abigail Arcane Cable Holland is a fictional co...</td>\n",
              "      <td>4104</td>\n",
              "    </tr>\n",
              "    <tr>\n",
              "      <th>3</th>\n",
              "      <td>3</td>\n",
              "      <td>Ace the Bat-Hound</td>\n",
              "      <td>{{short description|DC Comics character}}\\n{{U...</td>\n",
              "      <td>[Detective Comics, 2019 in comics, Tony S. Dan...</td>\n",
              "      <td>[Raven (DC Comics), Azrael (DC Comics), Animal...</td>\n",
              "      <td>dc</td>\n",
              "      <td>Ace the Bat Hound is a superhero dog appearing...</td>\n",
              "      <td>2937</td>\n",
              "    </tr>\n",
              "    <tr>\n",
              "      <th>4</th>\n",
              "      <td>4</td>\n",
              "      <td>Adam Strange</td>\n",
              "      <td>{{Short description|DC Comics fictional charac...</td>\n",
              "      <td>[Alex Ross, DC Comics, Showcase (comics), Juli...</td>\n",
              "      <td>[Green Lantern, Hawkman, Animal Man, Batman, D...</td>\n",
              "      <td>dc</td>\n",
              "      <td>New 52 Omniscience Omnipresence Omnipotence</td>\n",
              "      <td>6762</td>\n",
              "    </tr>\n",
              "    <tr>\n",
              "      <th>...</th>\n",
              "      <td>...</td>\n",
              "      <td>...</td>\n",
              "      <td>...</td>\n",
              "      <td>...</td>\n",
              "      <td>...</td>\n",
              "      <td>...</td>\n",
              "      <td>...</td>\n",
              "      <td>...</td>\n",
              "    </tr>\n",
              "    <tr>\n",
              "      <th>413</th>\n",
              "      <td>491</td>\n",
              "      <td>Sparta of Synriannaq#Character history</td>\n",
              "      <td>{{Infobox comics character| &lt;!--This box is pa...</td>\n",
              "      <td>[Image:NT54.jpg, Donna Troy, Wonder Girl, Geor...</td>\n",
              "      <td>[Wonder Woman]</td>\n",
              "      <td>dc</td>\n",
              "      <td>Sparta of Synriannaq is a fictional character ...</td>\n",
              "      <td>991</td>\n",
              "    </tr>\n",
              "    <tr>\n",
              "      <th>414</th>\n",
              "      <td>492</td>\n",
              "      <td>Cadre (comics)#Cadre of the Immortal</td>\n",
              "      <td>{{Short description|DC Comics supervillain gro...</td>\n",
              "      <td>[DC Comics, Justice League of America, Gerry C...</td>\n",
              "      <td>[Livewire (DC Comics), Batman, Booster Gold, S...</td>\n",
              "      <td>dc</td>\n",
              "      <td>The Cadre is a DC Comics supervillain group ex...</td>\n",
              "      <td>1194</td>\n",
              "    </tr>\n",
              "    <tr>\n",
              "      <th>415</th>\n",
              "      <td>493</td>\n",
              "      <td>Hell (DC Comics)#Fiends</td>\n",
              "      <td>{{in-universe|date=November 2010}}\\n{{Infobox ...</td>\n",
              "      <td>[:Category:Comics publishing companies, DC Com...</td>\n",
              "      <td>[Nightmaster, Felix Faust, Enchantress (DC Com...</td>\n",
              "      <td>dc</td>\n",
              "      <td>Hell a k a Gehenna Hades Hel Jahannam Sheol an...</td>\n",
              "      <td>9605</td>\n",
              "    </tr>\n",
              "    <tr>\n",
              "      <th>416</th>\n",
              "      <td>494</td>\n",
              "      <td>Xombi</td>\n",
              "      <td>{{short description|Fictional comics character...</td>\n",
              "      <td>[DC Comics, John Rozum, Denys Cowan, superhero...</td>\n",
              "      <td>[Green Lantern, Crispus Allen]</td>\n",
              "      <td>dc</td>\n",
              "      <td>Xombi is a superhero published by DC Comics He...</td>\n",
              "      <td>1348</td>\n",
              "    </tr>\n",
              "    <tr>\n",
              "      <th>417</th>\n",
              "      <td>497</td>\n",
              "      <td>Hero Hotline#Support crew</td>\n",
              "      <td>{{Infobox comics organization &lt;!--Wikipedia:Wi...</td>\n",
              "      <td>[Stephen DeStefano, DC Comics, Action Comics, ...</td>\n",
              "      <td>[Elongated Man, Bat-Mite]</td>\n",
              "      <td>dc</td>\n",
              "      <td>Hero Hotline is a fictional DC Comics corporat...</td>\n",
              "      <td>635</td>\n",
              "    </tr>\n",
              "  </tbody>\n",
              "</table>\n",
              "<p>418 rows × 8 columns</p>\n",
              "</div>\n",
              "      <button class=\"colab-df-convert\" onclick=\"convertToInteractive('df-696b6d48-9d20-4bd4-acf7-0eac39419a80')\"\n",
              "              title=\"Convert this dataframe to an interactive table.\"\n",
              "              style=\"display:none;\">\n",
              "        \n",
              "  <svg xmlns=\"http://www.w3.org/2000/svg\" height=\"24px\"viewBox=\"0 0 24 24\"\n",
              "       width=\"24px\">\n",
              "    <path d=\"M0 0h24v24H0V0z\" fill=\"none\"/>\n",
              "    <path d=\"M18.56 5.44l.94 2.06.94-2.06 2.06-.94-2.06-.94-.94-2.06-.94 2.06-2.06.94zm-11 1L8.5 8.5l.94-2.06 2.06-.94-2.06-.94L8.5 2.5l-.94 2.06-2.06.94zm10 10l.94 2.06.94-2.06 2.06-.94-2.06-.94-.94-2.06-.94 2.06-2.06.94z\"/><path d=\"M17.41 7.96l-1.37-1.37c-.4-.4-.92-.59-1.43-.59-.52 0-1.04.2-1.43.59L10.3 9.45l-7.72 7.72c-.78.78-.78 2.05 0 2.83L4 21.41c.39.39.9.59 1.41.59.51 0 1.02-.2 1.41-.59l7.78-7.78 2.81-2.81c.8-.78.8-2.07 0-2.86zM5.41 20L4 18.59l7.72-7.72 1.47 1.35L5.41 20z\"/>\n",
              "  </svg>\n",
              "      </button>\n",
              "      \n",
              "  <style>\n",
              "    .colab-df-container {\n",
              "      display:flex;\n",
              "      flex-wrap:wrap;\n",
              "      gap: 12px;\n",
              "    }\n",
              "\n",
              "    .colab-df-convert {\n",
              "      background-color: #E8F0FE;\n",
              "      border: none;\n",
              "      border-radius: 50%;\n",
              "      cursor: pointer;\n",
              "      display: none;\n",
              "      fill: #1967D2;\n",
              "      height: 32px;\n",
              "      padding: 0 0 0 0;\n",
              "      width: 32px;\n",
              "    }\n",
              "\n",
              "    .colab-df-convert:hover {\n",
              "      background-color: #E2EBFA;\n",
              "      box-shadow: 0px 1px 2px rgba(60, 64, 67, 0.3), 0px 1px 3px 1px rgba(60, 64, 67, 0.15);\n",
              "      fill: #174EA6;\n",
              "    }\n",
              "\n",
              "    [theme=dark] .colab-df-convert {\n",
              "      background-color: #3B4455;\n",
              "      fill: #D2E3FC;\n",
              "    }\n",
              "\n",
              "    [theme=dark] .colab-df-convert:hover {\n",
              "      background-color: #434B5C;\n",
              "      box-shadow: 0px 1px 3px 1px rgba(0, 0, 0, 0.15);\n",
              "      filter: drop-shadow(0px 1px 2px rgba(0, 0, 0, 0.3));\n",
              "      fill: #FFFFFF;\n",
              "    }\n",
              "  </style>\n",
              "\n",
              "      <script>\n",
              "        const buttonEl =\n",
              "          document.querySelector('#df-696b6d48-9d20-4bd4-acf7-0eac39419a80 button.colab-df-convert');\n",
              "        buttonEl.style.display =\n",
              "          google.colab.kernel.accessAllowed ? 'block' : 'none';\n",
              "\n",
              "        async function convertToInteractive(key) {\n",
              "          const element = document.querySelector('#df-696b6d48-9d20-4bd4-acf7-0eac39419a80');\n",
              "          const dataTable =\n",
              "            await google.colab.kernel.invokeFunction('convertToInteractive',\n",
              "                                                     [key], {});\n",
              "          if (!dataTable) return;\n",
              "\n",
              "          const docLinkHtml = 'Like what you see? Visit the ' +\n",
              "            '<a target=\"_blank\" href=https://colab.research.google.com/notebooks/data_table.ipynb>data table notebook</a>'\n",
              "            + ' to learn more about interactive tables.';\n",
              "          element.innerHTML = '';\n",
              "          dataTable['output_type'] = 'display_data';\n",
              "          await google.colab.output.renderOutput(dataTable, element);\n",
              "          const docLink = document.createElement('div');\n",
              "          docLink.innerHTML = docLinkHtml;\n",
              "          element.appendChild(docLink);\n",
              "        }\n",
              "      </script>\n",
              "    </div>\n",
              "  </div>\n",
              "  "
            ]
          },
          "metadata": {},
          "execution_count": 41
        }
      ]
    },
    {
      "cell_type": "markdown",
      "metadata": {
        "id": "LBsZSlhlbaD9"
      },
      "source": [
        "# Sentiment\n",
        "\n",
        "**First calculate the sentiment for all character pages. Calculate the mean value of the sentiment and the 10th and 90th percentile values for the sentiment. Then create a nice histogram displaying the distribution of sentiment values for all pages. Indicate the mean, etc on that histogram.**"
      ]
    },
    {
      "cell_type": "markdown",
      "source": [
        "## Pre-processing & Functions \n",
        "\n"
      ],
      "metadata": {
        "id": "OnCr454B8Ddh"
      }
    },
    {
      "cell_type": "code",
      "source": [
        "#Load LabMt happiness wordlist\n",
        "labmt = pd.read_csv('./LabMT.tsv', sep=\"\\t\")\n",
        "\n",
        "# Lookup dictionary of the LabMt Happiines wordlist\n",
        "# (word : happiness_average)\n",
        "labmt_lookup = pd.Series(labmt.happiness_average.values,index=labmt.word.values).to_dict()"
      ],
      "metadata": {
        "id": "tEZJ2AgtkSmR"
      },
      "execution_count": null,
      "outputs": []
    },
    {
      "cell_type": "code",
      "source": [
        "# Join both universe's data frames\n",
        "frames = [dc_big_df, marvel_big_df]\n",
        "\n",
        "df_marvel_dc = pd.concat(frames)"
      ],
      "metadata": {
        "id": "8H_WEbcrN09h"
      },
      "execution_count": null,
      "outputs": []
    },
    {
      "cell_type": "code",
      "source": [
        "# Store all the page's text in a dictionary to facilate the usage.\n",
        "v = list(G.nodes()) # list of all characters\n",
        "\n",
        "corpus_sentiment = {}\n",
        "\n",
        "for idx,x in enumerate(v):\n",
        "  text_character = df_marvel_dc['text_cleaned'].iloc[idx]\n",
        "  corpus_sentiment[x] = text_character"
      ],
      "metadata": {
        "id": "zgN9r1Tj8jq8"
      },
      "execution_count": null,
      "outputs": []
    },
    {
      "cell_type": "code",
      "source": [
        "# Define cleaning text function to be used in the sentiment analysis\n",
        "def cleaning_text_corpus(corpus_str):\n",
        "    \n",
        "    # Tokenizaion \n",
        "    tokens_list = nltk.word_tokenize(corpus_str)\n",
        "    \n",
        "    # Filter out non-alphabetic words\n",
        "    words_list = [w.lower() for w in tokens_list if w.isalpha()]\n",
        "    \n",
        "    # Remove stopwords\n",
        "    stopwords_set = set(stopwords.words('english'))\n",
        "    no_sw_words_list = [w for w in words_list if w not in stopwords_set]\n",
        "    \n",
        "    # Stemming\n",
        "    def stem(word):\n",
        "        regexp = r'^(.*?)(ing|ly|ed|ious|ies|ive|es|s|ment)?$'\n",
        "        stem, suffix = re.findall(regexp, word)[0]\n",
        "        return stem\n",
        "    stemmed_words_list = [stem(w) for w in no_sw_words_list]\n",
        "    \n",
        "    # Lemmatization\n",
        "    lemmatizer = nltk.WordNetLemmatizer()\n",
        "    clean_words_list = [lemmatizer.lemmatize(w) for w in stemmed_words_list]\n",
        "    \n",
        "    return no_sw_words_list"
      ],
      "metadata": {
        "id": "cdC5PBMCp63N"
      },
      "execution_count": null,
      "outputs": []
    },
    {
      "cell_type": "code",
      "source": [
        "# Define a function that calculate sentiment given a list of tokens\n",
        "def sentiment(tokens):\n",
        "    \n",
        "    ## happiness score\n",
        "    hw = {k:v for k,v in labmt_lookup.items() if k in tokens}\n",
        "    HW = dict(sorted(hw.items()))\n",
        "    \n",
        "    ## create frequency distribution of the token \n",
        "    text = nltk.Text(tokens)\n",
        "    text_freq = nltk.FreqDist(text)\n",
        "    \n",
        "    ## normalize term frequency \n",
        "    sum_f = sum(text_freq.values())\n",
        "    pi = {k:v/sum_f for k,v in text_freq.items()}\n",
        "    \n",
        "    ## sort pi by key values \n",
        "    PI = dict(sorted(pi.items()))\n",
        "    \n",
        "    ## calculate sentiment and round to 1 decimal\n",
        "    sen = round(sum(HW[k]*PI[k] for k in HW),1)\n",
        "    \n",
        "    return sen "
      ],
      "metadata": {
        "id": "drhBqhQMAV9x"
      },
      "execution_count": null,
      "outputs": []
    },
    {
      "cell_type": "markdown",
      "source": [
        "*both functions above were loosely based on other documents*"
      ],
      "metadata": {
        "id": "bpLysiTpcgz0"
      }
    },
    {
      "cell_type": "markdown",
      "source": [
        "## Sentiment Analysis "
      ],
      "metadata": {
        "id": "-uqQdSePAN1W"
      }
    },
    {
      "cell_type": "code",
      "source": [
        "# Get the tokens for each page and store in a dictionary\n",
        "# {page : list of tokens}\n",
        "tokens = {}\n",
        "for k,v in corpus_sentiment.items():\n",
        "    print\n",
        "    tokens[k] = list(set([w.lower() for w in cleaning_text_corpus(corpus_sentiment[k]) if w.isalpha()]))\n",
        "print('Number of pages: ', len(tokens.keys()))"
      ],
      "metadata": {
        "colab": {
          "base_uri": "https://localhost:8080/"
        },
        "id": "WpL13UrTqjYc",
        "outputId": "48b8d14c-9af7-4659-9261-a31bfaf38950"
      },
      "execution_count": null,
      "outputs": [
        {
          "output_type": "stream",
          "name": "stdout",
          "text": [
            "Number of pages:  1482\n"
          ]
        }
      ]
    },
    {
      "cell_type": "markdown",
      "source": [
        "**Sentiment score for each page**"
      ],
      "metadata": {
        "id": "GpKUlvaIl95N"
      }
    },
    {
      "cell_type": "code",
      "source": [
        "# Sentiments Dictionary for every page\n",
        "# {page : Sentiment Score}\n",
        "sentiment_score = {}\n",
        "\n",
        "for k,v in tokens.items():\n",
        "    sentiment_score[k] = sentiment(tokens[k])"
      ],
      "metadata": {
        "id": "JkLnFTl_9dy2"
      },
      "execution_count": null,
      "outputs": []
    },
    {
      "cell_type": "code",
      "source": [
        "# Get sentiments and Count in order to plot\n",
        "sentiments = sorted([v for k,v in sentiment_score.items()],reverse = True)\n",
        "sentimentscount = collections.Counter(sentiments)\n",
        "sent, count = zip(*sentimentscount.items())"
      ],
      "metadata": {
        "id": "6W56q-kuciF6"
      },
      "execution_count": null,
      "outputs": []
    },
    {
      "cell_type": "code",
      "source": [
        "# Plot Graph\n",
        "with sns.axes_style(\"darkgrid\"):\n",
        "    plt.figure(figsize = [10, 5])\n",
        "    plt.bar(sent, count, width=0.05, edgecolor = 'black',linewidth=0.01)\n",
        "    plt.xlabel('Score')\n",
        "    plt.title('Sentiment Score for All Characters')\n",
        "    plt.show()"
      ],
      "metadata": {
        "colab": {
          "base_uri": "https://localhost:8080/",
          "height": 355
        },
        "id": "3bHxztPEdVwm",
        "outputId": "5fe1b115-7bcb-48a1-9684-3f1214100c24"
      },
      "execution_count": null,
      "outputs": [
        {
          "output_type": "display_data",
          "data": {
            "text/plain": [
              "<Figure size 720x360 with 1 Axes>"
            ],
            "image/png": "[encoded data removed]"
          },
          "metadata": {}
        }
      ]
    },
    {
      "cell_type": "markdown",
      "source": [
        "**All Characters Stats**"
      ],
      "metadata": {
        "id": "MqfNlGRo2drF"
      }
    },
    {
      "cell_type": "code",
      "source": [
        "print(\"Mean: \" + str(sum(sentiment_score.values()) / len(sentiment_score.values())))\n",
        "print(\"1Oth Percentile: \" + str(np.percentile(list(sentiment_score.values()),10)))\n",
        "print(\"90th Percentile: \" + str(np.percentile(list(sentiment_score.values()),90)))"
      ],
      "metadata": {
        "colab": {
          "base_uri": "https://localhost:8080/"
        },
        "id": "AiWWqItn2bR2",
        "outputId": "f5666a77-ad51-4ac9-9e39-e3f84cdedd31"
      },
      "execution_count": null,
      "outputs": [
        {
          "output_type": "stream",
          "name": "stdout",
          "text": [
            "Mean: 3.8268556005398033\n",
            "1Oth Percentile: 3.5\n",
            "90th Percentile: 4.1\n"
          ]
        }
      ]
    },
    {
      "cell_type": "markdown",
      "source": [
        "## Good and Bad Characters Analysis\n"
      ],
      "metadata": {
        "id": "zbweu4o4eXEe"
      }
    },
    {
      "cell_type": "markdown",
      "source": [
        "Now grab the good/bad character names (from this file, see Week 8 for details) and calculate the same stats for only good/bad characters; also plot the histograms for the good/bad group and indicate the values of the mean, etc.\n",
        "\n",
        "Finally use the label permutation test (see Week 5) to investigate the two hypotheses below\n",
        "\n",
        "H1: Good characters have a higher averge value for sentiment than a similarly sized set of randomly selected characters.\n",
        "\n",
        "H2: Bad characters have a lower average value for sentiment than a similarly sized set of randomly selected characters.\n",
        "Write a short paragraph reflecting on your findings."
      ],
      "metadata": {
        "id": "G3oo2JogTfkg"
      }
    },
    {
      "cell_type": "code",
      "source": [
        "# Load good and bad character CSV\n",
        "good_and_bad_df = pd.read_csv('/content/good_bad_chars.csv', index_col=0)\n",
        "good_and_bad_df"
      ],
      "metadata": {
        "id": "j7uj-kcddXUu",
        "colab": {
          "base_uri": "https://localhost:8080/",
          "height": 424
        },
        "outputId": "e6f30106-3ffa-4c54-acb8-ed3e24e3058b"
      },
      "execution_count": null,
      "outputs": [
        {
          "output_type": "execute_result",
          "data": {
            "text/plain": [
              "      CharacterName                                           WikiLink  \\\n",
              "0       Abomination                            Abomination (character)   \n",
              "1     Absorbing Man                                      Absorbing Man   \n",
              "2            Achebe                                    Achebe (comics)   \n",
              "3             Agent                                     Agent (comics)   \n",
              "4           Agent X                            Agent X (Marvel Comics)   \n",
              "...             ...                                                ...   \n",
              "2298            Xov                            Xov (Action Comics 242)   \n",
              "2299             XS                                        XS (comics)   \n",
              "2300            4-D  International Ultramarine Corps#Founding membe...   \n",
              "2301         500Z-Q                          Hero Hotline#Support crew   \n",
              "2302           #711                               711 (Quality Comics)   \n",
              "\n",
              "     universe  woman  man  good  bad  \n",
              "0      Marvel      0    1     0    1  \n",
              "1      Marvel      0    1     0    1  \n",
              "2      Marvel      0    0     0    0  \n",
              "3      Marvel      0    1     1    0  \n",
              "4      Marvel      0    1     1    0  \n",
              "...       ...    ...  ...   ...  ...  \n",
              "2298       DC      0    0     0    0  \n",
              "2299       DC      0    0     0    0  \n",
              "2300       DC      0    0     0    0  \n",
              "2301       DC      0    0     0    0  \n",
              "2302       DC      0    0     0    0  \n",
              "\n",
              "[2303 rows x 7 columns]"
            ],
            "text/html": [
              "\n",
              "  <div id=\"df-ad44465b-60ea-4774-bb57-1d4f2091bc74\">\n",
              "    <div class=\"colab-df-container\">\n",
              "      <div>\n",
              "<style scoped>\n",
              "    .dataframe tbody tr th:only-of-type {\n",
              "        vertical-align: middle;\n",
              "    }\n",
              "\n",
              "    .dataframe tbody tr th {\n",
              "        vertical-align: top;\n",
              "    }\n",
              "\n",
              "    .dataframe thead th {\n",
              "        text-align: right;\n",
              "    }\n",
              "</style>\n",
              "<table border=\"1\" class=\"dataframe\">\n",
              "  <thead>\n",
              "    <tr style=\"text-align: right;\">\n",
              "      <th></th>\n",
              "      <th>CharacterName</th>\n",
              "      <th>WikiLink</th>\n",
              "      <th>universe</th>\n",
              "      <th>woman</th>\n",
              "      <th>man</th>\n",
              "      <th>good</th>\n",
              "      <th>bad</th>\n",
              "    </tr>\n",
              "  </thead>\n",
              "  <tbody>\n",
              "    <tr>\n",
              "      <th>0</th>\n",
              "      <td>Abomination</td>\n",
              "      <td>Abomination (character)</td>\n",
              "      <td>Marvel</td>\n",
              "      <td>0</td>\n",
              "      <td>1</td>\n",
              "      <td>0</td>\n",
              "      <td>1</td>\n",
              "    </tr>\n",
              "    <tr>\n",
              "      <th>1</th>\n",
              "      <td>Absorbing Man</td>\n",
              "      <td>Absorbing Man</td>\n",
              "      <td>Marvel</td>\n",
              "      <td>0</td>\n",
              "      <td>1</td>\n",
              "      <td>0</td>\n",
              "      <td>1</td>\n",
              "    </tr>\n",
              "    <tr>\n",
              "      <th>2</th>\n",
              "      <td>Achebe</td>\n",
              "      <td>Achebe (comics)</td>\n",
              "      <td>Marvel</td>\n",
              "      <td>0</td>\n",
              "      <td>0</td>\n",
              "      <td>0</td>\n",
              "      <td>0</td>\n",
              "    </tr>\n",
              "    <tr>\n",
              "      <th>3</th>\n",
              "      <td>Agent</td>\n",
              "      <td>Agent (comics)</td>\n",
              "      <td>Marvel</td>\n",
              "      <td>0</td>\n",
              "      <td>1</td>\n",
              "      <td>1</td>\n",
              "      <td>0</td>\n",
              "    </tr>\n",
              "    <tr>\n",
              "      <th>4</th>\n",
              "      <td>Agent X</td>\n",
              "      <td>Agent X (Marvel Comics)</td>\n",
              "      <td>Marvel</td>\n",
              "      <td>0</td>\n",
              "      <td>1</td>\n",
              "      <td>1</td>\n",
              "      <td>0</td>\n",
              "    </tr>\n",
              "    <tr>\n",
              "      <th>...</th>\n",
              "      <td>...</td>\n",
              "      <td>...</td>\n",
              "      <td>...</td>\n",
              "      <td>...</td>\n",
              "      <td>...</td>\n",
              "      <td>...</td>\n",
              "      <td>...</td>\n",
              "    </tr>\n",
              "    <tr>\n",
              "      <th>2298</th>\n",
              "      <td>Xov</td>\n",
              "      <td>Xov (Action Comics 242)</td>\n",
              "      <td>DC</td>\n",
              "      <td>0</td>\n",
              "      <td>0</td>\n",
              "      <td>0</td>\n",
              "      <td>0</td>\n",
              "    </tr>\n",
              "    <tr>\n",
              "      <th>2299</th>\n",
              "      <td>XS</td>\n",
              "      <td>XS (comics)</td>\n",
              "      <td>DC</td>\n",
              "      <td>0</td>\n",
              "      <td>0</td>\n",
              "      <td>0</td>\n",
              "      <td>0</td>\n",
              "    </tr>\n",
              "    <tr>\n",
              "      <th>2300</th>\n",
              "      <td>4-D</td>\n",
              "      <td>International Ultramarine Corps#Founding membe...</td>\n",
              "      <td>DC</td>\n",
              "      <td>0</td>\n",
              "      <td>0</td>\n",
              "      <td>0</td>\n",
              "      <td>0</td>\n",
              "    </tr>\n",
              "    <tr>\n",
              "      <th>2301</th>\n",
              "      <td>500Z-Q</td>\n",
              "      <td>Hero Hotline#Support crew</td>\n",
              "      <td>DC</td>\n",
              "      <td>0</td>\n",
              "      <td>0</td>\n",
              "      <td>0</td>\n",
              "      <td>0</td>\n",
              "    </tr>\n",
              "    <tr>\n",
              "      <th>2302</th>\n",
              "      <td>#711</td>\n",
              "      <td>711 (Quality Comics)</td>\n",
              "      <td>DC</td>\n",
              "      <td>0</td>\n",
              "      <td>0</td>\n",
              "      <td>0</td>\n",
              "      <td>0</td>\n",
              "    </tr>\n",
              "  </tbody>\n",
              "</table>\n",
              "<p>2303 rows × 7 columns</p>\n",
              "</div>\n",
              "      <button class=\"colab-df-convert\" onclick=\"convertToInteractive('df-ad44465b-60ea-4774-bb57-1d4f2091bc74')\"\n",
              "              title=\"Convert this dataframe to an interactive table.\"\n",
              "              style=\"display:none;\">\n",
              "        \n",
              "  <svg xmlns=\"http://www.w3.org/2000/svg\" height=\"24px\"viewBox=\"0 0 24 24\"\n",
              "       width=\"24px\">\n",
              "    <path d=\"M0 0h24v24H0V0z\" fill=\"none\"/>\n",
              "    <path d=\"M18.56 5.44l.94 2.06.94-2.06 2.06-.94-2.06-.94-.94-2.06-.94 2.06-2.06.94zm-11 1L8.5 8.5l.94-2.06 2.06-.94-2.06-.94L8.5 2.5l-.94 2.06-2.06.94zm10 10l.94 2.06.94-2.06 2.06-.94-2.06-.94-.94-2.06-.94 2.06-2.06.94z\"/><path d=\"M17.41 7.96l-1.37-1.37c-.4-.4-.92-.59-1.43-.59-.52 0-1.04.2-1.43.59L10.3 9.45l-7.72 7.72c-.78.78-.78 2.05 0 2.83L4 21.41c.39.39.9.59 1.41.59.51 0 1.02-.2 1.41-.59l7.78-7.78 2.81-2.81c.8-.78.8-2.07 0-2.86zM5.41 20L4 18.59l7.72-7.72 1.47 1.35L5.41 20z\"/>\n",
              "  </svg>\n",
              "      </button>\n",
              "      \n",
              "  <style>\n",
              "    .colab-df-container {\n",
              "      display:flex;\n",
              "      flex-wrap:wrap;\n",
              "      gap: 12px;\n",
              "    }\n",
              "\n",
              "    .colab-df-convert {\n",
              "      background-color: #E8F0FE;\n",
              "      border: none;\n",
              "      border-radius: 50%;\n",
              "      cursor: pointer;\n",
              "      display: none;\n",
              "      fill: #1967D2;\n",
              "      height: 32px;\n",
              "      padding: 0 0 0 0;\n",
              "      width: 32px;\n",
              "    }\n",
              "\n",
              "    .colab-df-convert:hover {\n",
              "      background-color: #E2EBFA;\n",
              "      box-shadow: 0px 1px 2px rgba(60, 64, 67, 0.3), 0px 1px 3px 1px rgba(60, 64, 67, 0.15);\n",
              "      fill: #174EA6;\n",
              "    }\n",
              "\n",
              "    [theme=dark] .colab-df-convert {\n",
              "      background-color: #3B4455;\n",
              "      fill: #D2E3FC;\n",
              "    }\n",
              "\n",
              "    [theme=dark] .colab-df-convert:hover {\n",
              "      background-color: #434B5C;\n",
              "      box-shadow: 0px 1px 3px 1px rgba(0, 0, 0, 0.15);\n",
              "      filter: drop-shadow(0px 1px 2px rgba(0, 0, 0, 0.3));\n",
              "      fill: #FFFFFF;\n",
              "    }\n",
              "  </style>\n",
              "\n",
              "      <script>\n",
              "        const buttonEl =\n",
              "          document.querySelector('#df-ad44465b-60ea-4774-bb57-1d4f2091bc74 button.colab-df-convert');\n",
              "        buttonEl.style.display =\n",
              "          google.colab.kernel.accessAllowed ? 'block' : 'none';\n",
              "\n",
              "        async function convertToInteractive(key) {\n",
              "          const element = document.querySelector('#df-ad44465b-60ea-4774-bb57-1d4f2091bc74');\n",
              "          const dataTable =\n",
              "            await google.colab.kernel.invokeFunction('convertToInteractive',\n",
              "                                                     [key], {});\n",
              "          if (!dataTable) return;\n",
              "\n",
              "          const docLinkHtml = 'Like what you see? Visit the ' +\n",
              "            '<a target=\"_blank\" href=https://colab.research.google.com/notebooks/data_table.ipynb>data table notebook</a>'\n",
              "            + ' to learn more about interactive tables.';\n",
              "          element.innerHTML = '';\n",
              "          dataTable['output_type'] = 'display_data';\n",
              "          await google.colab.output.renderOutput(dataTable, element);\n",
              "          const docLink = document.createElement('div');\n",
              "          docLink.innerHTML = docLinkHtml;\n",
              "          element.appendChild(docLink);\n",
              "        }\n",
              "      </script>\n",
              "    </div>\n",
              "  </div>\n",
              "  "
            ]
          },
          "metadata": {},
          "execution_count": 24
        }
      ]
    },
    {
      "cell_type": "code",
      "source": [
        "df_marvel_dc"
      ],
      "metadata": {
        "colab": {
          "base_uri": "https://localhost:8080/",
          "height": 693
        },
        "id": "c9EOCUWvTXmc",
        "outputId": "a5d89e82-153e-4345-9d4f-225754ca414f"
      },
      "execution_count": null,
      "outputs": [
        {
          "output_type": "execute_result",
          "data": {
            "text/plain": [
              "                          hero  \\\n",
              "0                     Abin Sur   \n",
              "1     Abra Kadabra (character)   \n",
              "2                 Abby Holland   \n",
              "3            Ace the Bat-Hound   \n",
              "4                 Adam Strange   \n",
              "...                        ...   \n",
              "1777                Arnim Zola   \n",
              "1778           Zombie (comics)   \n",
              "1780          Enclave (comics)   \n",
              "1782                     Zzzax   \n",
              "1783                   3-D Man   \n",
              "\n",
              "                                                   text  \\\n",
              "0     {{Refimprove|date=March 2008}}\\n{{Infobox comi...   \n",
              "1     {{Infobox comics character\\n<!--Wikipedia:Wiki...   \n",
              "2     {{short description|Fictional comic book chara...   \n",
              "3     {{short description|DC Comics character}}\\n{{U...   \n",
              "4     {{Short description|DC Comics fictional charac...   \n",
              "...                                                 ...   \n",
              "1777  {{Short description|Supervillain appearing in ...   \n",
              "1778  {{Short description|Marvel Comics fictional ch...   \n",
              "1780  {{short description|Fictional comic book organ...   \n",
              "1782  {{short description|Marvel comics villain}}\\n{...   \n",
              "1783  {{Short description|Marvel Comics fictional ch...   \n",
              "\n",
              "                                                  links  \\\n",
              "0     [DC Comics, John Broome (writer), Gil Kane, Li...   \n",
              "1     [Oscar Jimenez (comics), Anibal Rodriguez, Hum...   \n",
              "2     [File:SwampThing22.jpg, Swamp Thing (comic boo...   \n",
              "3     [Detective Comics, 2019 in comics, Tony S. Dan...   \n",
              "4     [Alex Ross, DC Comics, Showcase (comics), Juli...   \n",
              "...                                                 ...   \n",
              "1777  [File:Arnim Zola.PNG, Steve Epting, Marvel Com...   \n",
              "1778  [Tales of the Zombie, Boris Vallejo, Marvel Co...   \n",
              "1780  [Marvel Comics, Fantastic Four (comic book), S...   \n",
              "1782  [Hulk, The Incredible Hulk (comic book), Herb ...   \n",
              "1783  [superhero, American comic book, Marvel Comics...   \n",
              "\n",
              "                                           heroes_links universe  \\\n",
              "0     [Legion (DC Comics), Ganthet, Lex Luthor, Uncl...       dc   \n",
              "1     [Zatanna, Captain Cold, Weather Wizard, Doctor...       dc   \n",
              "2     [Anton Arcane, Etrigan the Demon, Batman, Dead...       dc   \n",
              "3     [Batgirl, Catwoman, Animal Man, Bat-Mite, Azra...       dc   \n",
              "4     [Despero, Sardath, Animal Man, Booster Gold, B...       dc   \n",
              "...                                                 ...      ...   \n",
              "1777  [Aleksander Lukin, Deadpool, Maker (Reed Richa...   marvel   \n",
              "1778  [Jennifer Kale, Deadpool, Calypso (comics), Ph...   marvel   \n",
              "1780  [Hulk, Doctor Strange, Maximus (comics), Traps...   marvel   \n",
              "1782  [Hulk, Hawkeye (Clint Barton), Luke Cage, Trap...   marvel   \n",
              "1783  [Hulk, Jimmy Woo, Marvel Boy (Robert Grayson),...   marvel   \n",
              "\n",
              "                                           text_cleaned  n_words_desc  \n",
              "0     Abin Sur is a superhero appearing in American ...          4890  \n",
              "1     Abra Kadabra Citizen Abra is a magical supervi...          2420  \n",
              "2     Abigail Arcane Cable Holland is a fictional co...          4104  \n",
              "3     Ace the Bat Hound is a superhero dog appearing...          2937  \n",
              "4          New 52 Omniscience Omnipresence Omnipotence           6762  \n",
              "...                                                 ...           ...  \n",
              "1777  Arnim Zola is a supervillain appearing in Amer...          4179  \n",
              "1778  The Zombie Simon William Garth is a fictional ...          2280  \n",
              "1780  Crucible is the supervillain identity used by ...          3114  \n",
              "1782  Zzzax is a fictional character appearing in Am...          1450  \n",
              "1783  3 D Man is the name of two fictional superhero...          3043  \n",
              "\n",
              "[1509 rows x 7 columns]"
            ],
            "text/html": [
              "\n",
              "  <div id=\"df-ecabac57-f8c3-4d8b-8619-f8369cc1346c\">\n",
              "    <div class=\"colab-df-container\">\n",
              "      <div>\n",
              "<style scoped>\n",
              "    .dataframe tbody tr th:only-of-type {\n",
              "        vertical-align: middle;\n",
              "    }\n",
              "\n",
              "    .dataframe tbody tr th {\n",
              "        vertical-align: top;\n",
              "    }\n",
              "\n",
              "    .dataframe thead th {\n",
              "        text-align: right;\n",
              "    }\n",
              "</style>\n",
              "<table border=\"1\" class=\"dataframe\">\n",
              "  <thead>\n",
              "    <tr style=\"text-align: right;\">\n",
              "      <th></th>\n",
              "      <th>hero</th>\n",
              "      <th>text</th>\n",
              "      <th>links</th>\n",
              "      <th>heroes_links</th>\n",
              "      <th>universe</th>\n",
              "      <th>text_cleaned</th>\n",
              "      <th>n_words_desc</th>\n",
              "    </tr>\n",
              "  </thead>\n",
              "  <tbody>\n",
              "    <tr>\n",
              "      <th>0</th>\n",
              "      <td>Abin Sur</td>\n",
              "      <td>{{Refimprove|date=March 2008}}\\n{{Infobox comi...</td>\n",
              "      <td>[DC Comics, John Broome (writer), Gil Kane, Li...</td>\n",
              "      <td>[Legion (DC Comics), Ganthet, Lex Luthor, Uncl...</td>\n",
              "      <td>dc</td>\n",
              "      <td>Abin Sur is a superhero appearing in American ...</td>\n",
              "      <td>4890</td>\n",
              "    </tr>\n",
              "    <tr>\n",
              "      <th>1</th>\n",
              "      <td>Abra Kadabra (character)</td>\n",
              "      <td>{{Infobox comics character\\n&lt;!--Wikipedia:Wiki...</td>\n",
              "      <td>[Oscar Jimenez (comics), Anibal Rodriguez, Hum...</td>\n",
              "      <td>[Zatanna, Captain Cold, Weather Wizard, Doctor...</td>\n",
              "      <td>dc</td>\n",
              "      <td>Abra Kadabra Citizen Abra is a magical supervi...</td>\n",
              "      <td>2420</td>\n",
              "    </tr>\n",
              "    <tr>\n",
              "      <th>2</th>\n",
              "      <td>Abby Holland</td>\n",
              "      <td>{{short description|Fictional comic book chara...</td>\n",
              "      <td>[File:SwampThing22.jpg, Swamp Thing (comic boo...</td>\n",
              "      <td>[Anton Arcane, Etrigan the Demon, Batman, Dead...</td>\n",
              "      <td>dc</td>\n",
              "      <td>Abigail Arcane Cable Holland is a fictional co...</td>\n",
              "      <td>4104</td>\n",
              "    </tr>\n",
              "    <tr>\n",
              "      <th>3</th>\n",
              "      <td>Ace the Bat-Hound</td>\n",
              "      <td>{{short description|DC Comics character}}\\n{{U...</td>\n",
              "      <td>[Detective Comics, 2019 in comics, Tony S. Dan...</td>\n",
              "      <td>[Batgirl, Catwoman, Animal Man, Bat-Mite, Azra...</td>\n",
              "      <td>dc</td>\n",
              "      <td>Ace the Bat Hound is a superhero dog appearing...</td>\n",
              "      <td>2937</td>\n",
              "    </tr>\n",
              "    <tr>\n",
              "      <th>4</th>\n",
              "      <td>Adam Strange</td>\n",
              "      <td>{{Short description|DC Comics fictional charac...</td>\n",
              "      <td>[Alex Ross, DC Comics, Showcase (comics), Juli...</td>\n",
              "      <td>[Despero, Sardath, Animal Man, Booster Gold, B...</td>\n",
              "      <td>dc</td>\n",
              "      <td>New 52 Omniscience Omnipresence Omnipotence</td>\n",
              "      <td>6762</td>\n",
              "    </tr>\n",
              "    <tr>\n",
              "      <th>...</th>\n",
              "      <td>...</td>\n",
              "      <td>...</td>\n",
              "      <td>...</td>\n",
              "      <td>...</td>\n",
              "      <td>...</td>\n",
              "      <td>...</td>\n",
              "      <td>...</td>\n",
              "    </tr>\n",
              "    <tr>\n",
              "      <th>1777</th>\n",
              "      <td>Arnim Zola</td>\n",
              "      <td>{{Short description|Supervillain appearing in ...</td>\n",
              "      <td>[File:Arnim Zola.PNG, Steve Epting, Marvel Com...</td>\n",
              "      <td>[Aleksander Lukin, Deadpool, Maker (Reed Richa...</td>\n",
              "      <td>marvel</td>\n",
              "      <td>Arnim Zola is a supervillain appearing in Amer...</td>\n",
              "      <td>4179</td>\n",
              "    </tr>\n",
              "    <tr>\n",
              "      <th>1778</th>\n",
              "      <td>Zombie (comics)</td>\n",
              "      <td>{{Short description|Marvel Comics fictional ch...</td>\n",
              "      <td>[Tales of the Zombie, Boris Vallejo, Marvel Co...</td>\n",
              "      <td>[Jennifer Kale, Deadpool, Calypso (comics), Ph...</td>\n",
              "      <td>marvel</td>\n",
              "      <td>The Zombie Simon William Garth is a fictional ...</td>\n",
              "      <td>2280</td>\n",
              "    </tr>\n",
              "    <tr>\n",
              "      <th>1780</th>\n",
              "      <td>Enclave (comics)</td>\n",
              "      <td>{{short description|Fictional comic book organ...</td>\n",
              "      <td>[Marvel Comics, Fantastic Four (comic book), S...</td>\n",
              "      <td>[Hulk, Doctor Strange, Maximus (comics), Traps...</td>\n",
              "      <td>marvel</td>\n",
              "      <td>Crucible is the supervillain identity used by ...</td>\n",
              "      <td>3114</td>\n",
              "    </tr>\n",
              "    <tr>\n",
              "      <th>1782</th>\n",
              "      <td>Zzzax</td>\n",
              "      <td>{{short description|Marvel comics villain}}\\n{...</td>\n",
              "      <td>[Hulk, The Incredible Hulk (comic book), Herb ...</td>\n",
              "      <td>[Hulk, Hawkeye (Clint Barton), Luke Cage, Trap...</td>\n",
              "      <td>marvel</td>\n",
              "      <td>Zzzax is a fictional character appearing in Am...</td>\n",
              "      <td>1450</td>\n",
              "    </tr>\n",
              "    <tr>\n",
              "      <th>1783</th>\n",
              "      <td>3-D Man</td>\n",
              "      <td>{{Short description|Marvel Comics fictional ch...</td>\n",
              "      <td>[superhero, American comic book, Marvel Comics...</td>\n",
              "      <td>[Hulk, Jimmy Woo, Marvel Boy (Robert Grayson),...</td>\n",
              "      <td>marvel</td>\n",
              "      <td>3 D Man is the name of two fictional superhero...</td>\n",
              "      <td>3043</td>\n",
              "    </tr>\n",
              "  </tbody>\n",
              "</table>\n",
              "<p>1509 rows × 7 columns</p>\n",
              "</div>\n",
              "      <button class=\"colab-df-convert\" onclick=\"convertToInteractive('df-ecabac57-f8c3-4d8b-8619-f8369cc1346c')\"\n",
              "              title=\"Convert this dataframe to an interactive table.\"\n",
              "              style=\"display:none;\">\n",
              "        \n",
              "  <svg xmlns=\"http://www.w3.org/2000/svg\" height=\"24px\"viewBox=\"0 0 24 24\"\n",
              "       width=\"24px\">\n",
              "    <path d=\"M0 0h24v24H0V0z\" fill=\"none\"/>\n",
              "    <path d=\"M18.56 5.44l.94 2.06.94-2.06 2.06-.94-2.06-.94-.94-2.06-.94 2.06-2.06.94zm-11 1L8.5 8.5l.94-2.06 2.06-.94-2.06-.94L8.5 2.5l-.94 2.06-2.06.94zm10 10l.94 2.06.94-2.06 2.06-.94-2.06-.94-.94-2.06-.94 2.06-2.06.94z\"/><path d=\"M17.41 7.96l-1.37-1.37c-.4-.4-.92-.59-1.43-.59-.52 0-1.04.2-1.43.59L10.3 9.45l-7.72 7.72c-.78.78-.78 2.05 0 2.83L4 21.41c.39.39.9.59 1.41.59.51 0 1.02-.2 1.41-.59l7.78-7.78 2.81-2.81c.8-.78.8-2.07 0-2.86zM5.41 20L4 18.59l7.72-7.72 1.47 1.35L5.41 20z\"/>\n",
              "  </svg>\n",
              "      </button>\n",
              "      \n",
              "  <style>\n",
              "    .colab-df-container {\n",
              "      display:flex;\n",
              "      flex-wrap:wrap;\n",
              "      gap: 12px;\n",
              "    }\n",
              "\n",
              "    .colab-df-convert {\n",
              "      background-color: #E8F0FE;\n",
              "      border: none;\n",
              "      border-radius: 50%;\n",
              "      cursor: pointer;\n",
              "      display: none;\n",
              "      fill: #1967D2;\n",
              "      height: 32px;\n",
              "      padding: 0 0 0 0;\n",
              "      width: 32px;\n",
              "    }\n",
              "\n",
              "    .colab-df-convert:hover {\n",
              "      background-color: #E2EBFA;\n",
              "      box-shadow: 0px 1px 2px rgba(60, 64, 67, 0.3), 0px 1px 3px 1px rgba(60, 64, 67, 0.15);\n",
              "      fill: #174EA6;\n",
              "    }\n",
              "\n",
              "    [theme=dark] .colab-df-convert {\n",
              "      background-color: #3B4455;\n",
              "      fill: #D2E3FC;\n",
              "    }\n",
              "\n",
              "    [theme=dark] .colab-df-convert:hover {\n",
              "      background-color: #434B5C;\n",
              "      box-shadow: 0px 1px 3px 1px rgba(0, 0, 0, 0.15);\n",
              "      filter: drop-shadow(0px 1px 2px rgba(0, 0, 0, 0.3));\n",
              "      fill: #FFFFFF;\n",
              "    }\n",
              "  </style>\n",
              "\n",
              "      <script>\n",
              "        const buttonEl =\n",
              "          document.querySelector('#df-ecabac57-f8c3-4d8b-8619-f8369cc1346c button.colab-df-convert');\n",
              "        buttonEl.style.display =\n",
              "          google.colab.kernel.accessAllowed ? 'block' : 'none';\n",
              "\n",
              "        async function convertToInteractive(key) {\n",
              "          const element = document.querySelector('#df-ecabac57-f8c3-4d8b-8619-f8369cc1346c');\n",
              "          const dataTable =\n",
              "            await google.colab.kernel.invokeFunction('convertToInteractive',\n",
              "                                                     [key], {});\n",
              "          if (!dataTable) return;\n",
              "\n",
              "          const docLinkHtml = 'Like what you see? Visit the ' +\n",
              "            '<a target=\"_blank\" href=https://colab.research.google.com/notebooks/data_table.ipynb>data table notebook</a>'\n",
              "            + ' to learn more about interactive tables.';\n",
              "          element.innerHTML = '';\n",
              "          dataTable['output_type'] = 'display_data';\n",
              "          await google.colab.output.renderOutput(dataTable, element);\n",
              "          const docLink = document.createElement('div');\n",
              "          docLink.innerHTML = docLinkHtml;\n",
              "          element.appendChild(docLink);\n",
              "        }\n",
              "      </script>\n",
              "    </div>\n",
              "  </div>\n",
              "  "
            ]
          },
          "metadata": {},
          "execution_count": 30
        }
      ]
    },
    {
      "cell_type": "code",
      "source": [
        "# The colum hero in our data set is mixed with only the name hero with the WikiLinks. We believe that this was a problem caused\n",
        "# when we fetched from the API. A workround here is proposed. It was joined both on the \"hero\" and on \"CharacterName\"\n",
        "# the final DataFrame is exactly the original data frame with the 4 extra columns from the \"Bad and Good\" DF given\n",
        "res_join_CharacterName = df_marvel_dc.merge(good_and_bad_df, how='inner', left_on=['hero'], right_on=['CharacterName'])\n",
        "\n",
        "res_join_WikiLink = df_marvel_dc.merge(good_and_bad_df, how='inner', left_on=['hero'], right_on=['WikiLink'])\n",
        "\n",
        "frames = [res_join_CharacterName, res_join_WikiLink]\n",
        "\n",
        "df_good_and_bad = pd.concat(frames)"
      ],
      "metadata": {
        "id": "YyA3V5qBUbD9"
      },
      "execution_count": null,
      "outputs": []
    },
    {
      "cell_type": "code",
      "source": [
        "# Fuction to get Sentiments score only for the selected Dictionary (good or bad)\n",
        "def filterTheDict(dictObj, callBack):\n",
        "    newDict = dict()\n",
        "    # Iterate over all the items in dictionary\n",
        "    for (key, value) in dictObj.items():\n",
        "        # Check if item satisfies the given condition then add to new dict\n",
        "        if key in callBack['hero'].tolist() or key in callBack['WikiLink'].tolist()  :\n",
        "            newDict[key] = value\n",
        "            continue\n",
        "    return newDict"
      ],
      "metadata": {
        "id": "7csbbvexfizc"
      },
      "execution_count": null,
      "outputs": []
    },
    {
      "cell_type": "markdown",
      "source": [
        "### Good Characters Analysis"
      ],
      "metadata": {
        "id": "kn7UOphDfMvA"
      }
    },
    {
      "cell_type": "markdown",
      "source": [
        "*The heros with 1 for both bad and good were filtered out*"
      ],
      "metadata": {
        "id": "43EnaLCEf7hk"
      }
    },
    {
      "cell_type": "code",
      "source": [
        "# Select only good heros (filter out when good AND bad = 1)\n",
        "good_df = df_good_and_bad[(df_good_and_bad['good'] == 1) & (df_good_and_bad['bad'] == 0)]"
      ],
      "metadata": {
        "id": "K9n8NjaJfPUP"
      },
      "execution_count": null,
      "outputs": []
    },
    {
      "cell_type": "code",
      "source": [
        "# Sentiment Score list for only the good characters\n",
        "sentiment_score_good = filterTheDict(sentiment_score,good_df)\n",
        "\n",
        "sentiments = sorted([v for k,v in sentiment_score_good.items()],reverse = True)\n",
        "sentimentscount = collections.Counter(sentiments)\n",
        "sent, count = zip(*sentimentscount.items())"
      ],
      "metadata": {
        "id": "8MgmQi4KxWX0"
      },
      "execution_count": null,
      "outputs": []
    },
    {
      "cell_type": "code",
      "source": [
        "# Plot Graph for Good Characters\n",
        "with sns.axes_style(\"darkgrid\"):\n",
        "    plt.figure(figsize = [10, 5])\n",
        "    plt.bar(sent, count, width=0.05, edgecolor = 'black',linewidth=0.01)\n",
        "    plt.xlabel('sentiment score')\n",
        "    plt.ylabel('Count')\n",
        "    plt.title('Sentiment Score for Good Characters')\n",
        "    plt.show()"
      ],
      "metadata": {
        "colab": {
          "base_uri": "https://localhost:8080/",
          "height": 355
        },
        "id": "c0t0EeYyy2pA",
        "outputId": "62ac922d-0af2-447b-e7ef-b70f2693418b"
      },
      "execution_count": null,
      "outputs": [
        {
          "output_type": "display_data",
          "data": {
            "text/plain": [
              "<Figure size 720x360 with 1 Axes>"
            ],
            "image/png": "[encoded data removed]"
          },
          "metadata": {}
        }
      ]
    },
    {
      "cell_type": "markdown",
      "source": [
        "**Good Character Stats**"
      ],
      "metadata": {
        "id": "0LGuG1Ts1s4N"
      }
    },
    {
      "cell_type": "code",
      "source": [
        "print(\"Mean: \" + str(sum(sentiment_score_good.values()) / len(sentiment_score_good.values())))\n",
        "print(\"1Oth Percentile: \" + str(np.percentile(list(sentiment_score_good.values()),10)))\n",
        "print(\"90th Percentile: \" + str(np.percentile(list(sentiment_score_good.values()),90)))"
      ],
      "metadata": {
        "colab": {
          "base_uri": "https://localhost:8080/"
        },
        "id": "C2Kk2XYb1sCk",
        "outputId": "a089a8ee-ea0f-4491-b163-20fb046a6d95"
      },
      "execution_count": null,
      "outputs": [
        {
          "output_type": "stream",
          "name": "stdout",
          "text": [
            "Mean: 3.8100977198697064\n",
            "1Oth Percentile: 3.5\n",
            "90th Percentile: 4.1\n"
          ]
        }
      ]
    },
    {
      "cell_type": "markdown",
      "source": [
        "### Bad Characters Analysis"
      ],
      "metadata": {
        "id": "WGnc9n4OvpOE"
      }
    },
    {
      "cell_type": "code",
      "source": [
        "# Simmilarly, get only the bad characters\n",
        "bad_df = df_good_and_bad[(df_good_and_bad['good'] == 0) & (df_good_and_bad['bad'] == 1)]"
      ],
      "metadata": {
        "id": "Gvm0jtWuvqsS"
      },
      "execution_count": null,
      "outputs": []
    },
    {
      "cell_type": "code",
      "source": [
        "# Sentiment Score list for only the good characters\n",
        "sentiment_score_bad = filterTheDict(sentiment_score,bad_df)\n",
        "\n",
        "sentiments = sorted([v for k,v in sentiment_score_bad.items()],reverse = True)\n",
        "sentimentscount = collections.Counter(sentiments)\n",
        "sent, count = zip(*sentimentscount.items())\n",
        "\n",
        "# sentiment_score_bad"
      ],
      "metadata": {
        "id": "9QLOIq3_v7Kx"
      },
      "execution_count": null,
      "outputs": []
    },
    {
      "cell_type": "code",
      "source": [
        "with sns.axes_style(\"darkgrid\"):\n",
        "    plt.figure(figsize = [10, 5])\n",
        "    plt.bar(sent, count, width=0.05, edgecolor = 'black',linewidth=0.01)\n",
        "    plt.xlabel('sentiment score')\n",
        "    plt.ylabel('Count')\n",
        "    plt.title('Sentiment Score for Bad Characters')\n",
        "    plt.show()"
      ],
      "metadata": {
        "colab": {
          "base_uri": "https://localhost:8080/",
          "height": 355
        },
        "id": "kwQVgH4n1-Dy",
        "outputId": "8dac027b-b2f8-4495-aede-8bca5384ee82"
      },
      "execution_count": null,
      "outputs": [
        {
          "output_type": "display_data",
          "data": {
            "text/plain": [
              "<Figure size 720x360 with 1 Axes>"
            ],
            "image/png": "[encoded data removed]"
          },
          "metadata": {}
        }
      ]
    },
    {
      "cell_type": "markdown",
      "source": [
        "**Bad Character Stats** **bold text**"
      ],
      "metadata": {
        "id": "tTdO62TO4ASk"
      }
    },
    {
      "cell_type": "code",
      "source": [
        "print(\"Mean: \" + str(sum(sentiment_score_bad.values()) / len(sentiment_score_bad.values())))\n",
        "print(\"1Oth Percentile: \" + str(np.percentile(list(sentiment_score_bad.values()),10)))\n",
        "print(\"90th Percentile: \" + str(np.percentile(list(sentiment_score_bad.values()),90)))"
      ],
      "metadata": {
        "colab": {
          "base_uri": "https://localhost:8080/"
        },
        "id": "w5eUtvuG2EPs",
        "outputId": "af35a085-d6eb-4e3a-bd92-f318d35f3c76"
      },
      "execution_count": null,
      "outputs": [
        {
          "output_type": "stream",
          "name": "stdout",
          "text": [
            "Mean: 3.802201257861638\n",
            "1Oth Percentile: 3.5\n",
            "90th Percentile: 4.1\n"
          ]
        }
      ]
    },
    {
      "cell_type": "markdown",
      "source": [
        "### Hypothesis Checking"
      ],
      "metadata": {
        "id": "USfqUK3oBhxo"
      }
    },
    {
      "cell_type": "code",
      "source": [
        "\n",
        "original_char = list(pd.concat([good_df, bad_df])['hero']) #holds the original order of characters\n",
        "\n",
        "good_chars = list(good_df[\"hero\"])\n",
        "bad_chars = list(bad_df[\"hero\"])\n",
        "\n",
        "mean_bad_chars = sum(sentiment_score_bad.values()) / len(sentiment_score_bad.values())\n",
        "mean_good_chars = sum(sentiment_score_good.values()) / len(sentiment_score_good.values())\n",
        "\n",
        "original_label = [] #hols the original orders of label (1 - good, 0 - bad)\n",
        "\n",
        "for hero in df_good_and_bad['hero'].tolist():\n",
        "  # if hero is in good_df it means that's good and then it should be assigned 1\n",
        "  if hero in good_df[\"hero\"].tolist():\n",
        "    original_label.append(1)\n",
        "  else:\n",
        "    original_label.append(0)\n",
        "  \n",
        "# now we have original_char, and original_label which containais a List of The characters and a List of the original Labels (1 or 0)\n"
      ],
      "metadata": {
        "id": "Gnf-WznCBgcM"
      },
      "execution_count": null,
      "outputs": []
    },
    {
      "cell_type": "code",
      "source": [
        "# Sentiment for each Sample generated\n",
        "sent_samples_good_chars = []\n",
        "sent_samples_bad_chars = []\n",
        "\n",
        "# Sample generation loop\n",
        "for n in range(1000):\n",
        "    '''\n",
        "    For each Sample:\n",
        "      1. shuffle bad and good labels\n",
        "      2.  \n",
        "    '''\n",
        "    # Initialize sentiment bad and good\n",
        "    sent_bad = 0\n",
        "    sent_good = 0\n",
        "    sent_good_count = 0 \n",
        "    sent_bad_count = 0\n",
        "\n",
        "    # Shuffle bad and good\n",
        "    original_label = random.sample(original_label, k=len(original_label))\n",
        "\n",
        "\n",
        "    # Loop Through the original_char list\n",
        "    # figure it, if the char is good or bad (1 or 0)\n",
        "    # get the sentiment score\n",
        "    for c in original_char:\n",
        "        good_or_bad = original_label[original_char.index(c)]\n",
        "        if good_or_bad == 1:\n",
        "            try:\n",
        "              sent_good += sentiment_score[c]\n",
        "              sent_good_count += 1\n",
        "            except:\n",
        "              continue\n",
        "        if good_or_bad == 0:\n",
        "            try:\n",
        "              sent_bad += sentiment_score[c]\n",
        "              sent_bad_count += 1\n",
        "            except:\n",
        "              continue\n",
        "    \n",
        "    # Divide the sum by the number of good/bad guys (in this sample)\n",
        "    # Add this average to the average_sentiment_samples list\n",
        "    sent_samples_good_chars.append(sent_good / sent_good_count)\n",
        "    sent_samples_bad_chars.append(sent_bad / sent_bad_count)\n",
        "\n",
        "# Plot a histogram of the averages\n",
        "fig, axs = plt.subplots(1, 2, sharex=True, figsize=(20, 5))\n",
        "axs[0].hist(sent_samples_good_chars, bins = 10, edgecolor='black')\n",
        "axs[0].axvline(mean_good_chars, color='red', linestyle='dashed', linewidth=1, label=\"mean\")\n",
        "axs[0].set_title('Result of label permutation for good guys')\n",
        "axs[0].legend()\n",
        "\n",
        "axs[1].hist(sent_samples_bad_chars, bins = 10, edgecolor='black')\n",
        "axs[1].axvline(mean_bad_chars, color='red', linestyle='dashed', linewidth=1, label=\"mean\")\n",
        "axs[1].set_title('Result of label permutation for Bad guys')\n",
        "axs[1].legend()\n",
        "\n",
        "plt.show()"
      ],
      "metadata": {
        "colab": {
          "base_uri": "https://localhost:8080/",
          "height": 338
        },
        "id": "TqS1NMC3HTDt",
        "outputId": "6aaf3eb9-fca9-45ca-ae5a-ec8101a6bba7"
      },
      "execution_count": null,
      "outputs": [
        {
          "output_type": "display_data",
          "data": {
            "text/plain": [
              "<Figure size 1440x360 with 2 Axes>"
            ],
            "image/png": "[encoded data removed]"
          },
          "metadata": {}
        }
      ]
    },
    {
      "cell_type": "markdown",
      "source": [
        "## Conclusions"
      ],
      "metadata": {
        "id": "IwhS_mAMAKBS"
      }
    },
    {
      "cell_type": "markdown",
      "source": [
        "**Bad Vs. Good Characters**\n",
        "\n",
        "All the stats were very similar in between the groups, which is counter intuitive. Besides that, both the 10th and 90th percetile are very similar for both groups, further indicating that the distributions are very similar. "
      ],
      "metadata": {
        "id": "-I4HtMzHARkl"
      }
    },
    {
      "cell_type": "code",
      "source": [],
      "metadata": {
        "id": "E-CTq_RvLuWy"
      },
      "execution_count": null,
      "outputs": []
    }
  ],
  "metadata": {
    "anaconda-cloud": {},
    "colab": {
      "provenance": [],
      "toc_visible": true
    },
    "kernelspec": {
      "display_name": "Python 3 (ipykernel)",
      "language": "python",
      "name": "python3"
    },
    "language_info": {
      "codemirror_mode": {
        "name": "ipython",
        "version": 3
      },
      "file_extension": ".py",
      "mimetype": "text/x-python",
      "name": "python",
      "nbconvert_exporter": "python",
      "pygments_lexer": "ipython3",
      "version": "3.9.12"
    }
  },
  "nbformat": 4,
  "nbformat_minor": 0
}